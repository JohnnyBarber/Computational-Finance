{
 "cells": [
  {
   "cell_type": "code",
   "execution_count": 1,
   "metadata": {},
   "outputs": [],
   "source": [
    "import numpy as np\n",
    "import matplotlib.pyplot as plt\n",
    "import scipy.stats as si\n"
   ]
  },
  {
   "cell_type": "markdown",
   "metadata": {},
   "source": [
    "# Problem 1"
   ]
  },
  {
   "cell_type": "markdown",
   "metadata": {},
   "source": [
    "**Following is the Value given by Black Scholes**"
   ]
  },
  {
   "cell_type": "code",
   "execution_count": 4,
   "metadata": {},
   "outputs": [],
   "source": [
    "#Problem 1-----------------------------------------------------\n",
    "S0 = 10\n",
    "sigma = 0.2\n",
    "r = 0.04\n",
    "dt = 0.002\n",
    "dX = sigma*np.array([np.sqrt(dt),np.sqrt(3*dt),np.sqrt(4*dt)])\n",
    "K = 10\n",
    "T = 0.5\n",
    "steps = int(T/dt)\n",
    "S = np.arange(4,17,1)\n",
    "\n",
    "###############B-S######################\n",
    "def f_BS(S0,type):\n",
    "    K=10.0\n",
    "    T=0.5\n",
    "    sigma=0.2\n",
    "    r=0.04\n",
    "    d_1=(np.log(S0/K)+(r+0.5*sigma**2)*T)/(sigma * np.sqrt(T))\n",
    "    d_2=d_1-sigma*np.sqrt(T)\n",
    "    if type==\"call\":\n",
    "        option=(S0*si.norm.cdf(d_1,0.0,1.0)-K*np.exp(-r*T)*si.norm.cdf(d_2,0.0,1.0))\n",
    "    if type==\"put\":\n",
    "        option=(K*np.exp(-r*T)*si.norm.cdf(-d_2, 0.0, 1.0)-S0*si.norm.cdf(-d_1,0.0,1.0))\n",
    "    return option\n",
    "\n",
    "BS_EFD = np.zeros(13)\n",
    "for i in range(13):\n",
    "    BS_EFD[i] = f_BS(S[i],\"put\")"
   ]
  },
  {
   "cell_type": "code",
   "execution_count": 8,
   "metadata": {},
   "outputs": [
    {
     "name": "stdout",
     "output_type": "stream",
     "text": [
      "Balck Scholes:  [5.80198673e+00 4.80198692e+00 3.80205782e+00 2.80535743e+00\n",
      " 1.84426859e+00 1.02442812e+00 4.64694534e-01 1.71536863e-01\n",
      " 5.24596231e-02 1.36511383e-02 3.10746681e-03 6.34561801e-04\n",
      " 1.18785901e-04]\n"
     ]
    }
   ],
   "source": [
    "print(\"Balck Scholes: \",BS_EFD,)"
   ]
  },
  {
   "cell_type": "code",
   "execution_count": 9,
   "metadata": {},
   "outputs": [],
   "source": [
    "###############EFD######################\n",
    "def f_EFD(S0,dX,sigma,dt,r,K,steps):\n",
    "    Pu = dt*(sigma**2/(2*dX**2)+(r-sigma**2/2)/(2*dX))\n",
    "    Pm = 1-dt*sigma**2/(dX**2) - r*dt\n",
    "    Pd = dt*(sigma**2/(2*dX**2)-(r-sigma**2/2)/(2*dX))\n",
    "    \n",
    "    TerP = np.arange(np.log(100)+dX,np.log(1)-dX,-dX)\n",
    "    index = np.where(np.exp(TerP)<S0)[0][0]\n",
    "    N = len(TerP)\n",
    "    A = np.zeros(shape = (N,N))\n",
    "    move = np.array([0,1,2])\n",
    "    A[0,move] = [Pu,Pm,Pd]\n",
    "    A[1,move] = [Pu,Pm,Pd]\n",
    "    for i in range(1,(N-3)):\n",
    "        A[i+1,move+i] = [Pu,Pm,Pd]\n",
    "    A[N-2,move+N-3] = [Pu,Pm,Pd]\n",
    "    A[N-1,move+N-3] = [Pu,Pm,Pd]\n",
    "    \n",
    "    F = np.maximum(K - np.exp(TerP),0)\n",
    "    \n",
    "    B = np.zeros(N)\n",
    "    B[-1] = np.exp(TerP[-2])-np.exp(TerP[-1])\n",
    "    \n",
    "    for i in range(steps):\n",
    "        F = np.dot(A,F)+B\n",
    "    option = np.mean([F[index-1],F[index]])\n",
    "    return option\n",
    "\n",
    "optionE = np.zeros((3,13))\n",
    "for i in range(3):\n",
    "    for j in range(13):\n",
    "        optionE[i,j] = f_EFD(S[j],dX[i],sigma,dt,r,K,steps)\n",
    "\n",
    "Err_EFD = BS_EFD - optionE"
   ]
  },
  {
   "cell_type": "markdown",
   "metadata": {},
   "source": [
    "**Following is the option prices calculated by EXPLICIT METHOD with column represents different S0 values and row represents different dX values:**"
   ]
  },
  {
   "cell_type": "code",
   "execution_count": 12,
   "metadata": {
    "scrolled": true
   },
   "outputs": [
    {
     "name": "stdout",
     "output_type": "stream",
     "text": [
      "[[5.78827438e+00 4.78252372e+00 3.79936205e+00 2.81673938e+00\n",
      "  1.85171073e+00 1.04077220e+00 4.67558599e-01 1.66762471e-01\n",
      "  5.58697956e-02 1.45709312e-02 2.90395697e-03 6.80252673e-04\n",
      "  1.04023936e-04]\n",
      " [5.78462035e+00 4.81160099e+00 3.79211478e+00 2.78859638e+00\n",
      "  1.89704928e+00 1.03172067e+00 4.57218418e-01 1.72958472e-01\n",
      "  4.85085971e-02 1.30618534e-02 2.75245387e-03 6.58877253e-04\n",
      "  1.33288592e-04]\n",
      " [5.77016098e+00 4.80476841e+00 3.82596355e+00 2.78566460e+00\n",
      "  1.88464056e+00 1.01294878e+00 4.49636834e-01 1.76474418e-01\n",
      "  5.25783055e-02 1.60492028e-02 2.72412706e-03 8.00402203e-04\n",
      "  1.28975428e-04]]\n",
      "[[ 1.37123580e-02  1.94632023e-02  2.69577780e-03 -1.13819449e-02\n",
      "  -7.44214180e-03 -1.63440741e-02 -2.86406454e-03  4.77439259e-03\n",
      "  -3.41017247e-03 -9.19792970e-04  2.03509834e-04 -4.56908719e-05\n",
      "   1.47619650e-05]\n",
      " [ 1.73663872e-02 -9.61406677e-03  9.94304568e-03  1.67610516e-02\n",
      "  -5.27806852e-02 -7.29254735e-03  7.47611606e-03 -1.42160894e-03\n",
      "   3.95102604e-03  5.89284820e-04  3.55012943e-04 -2.43154515e-05\n",
      "  -1.45026905e-05]\n",
      " [ 3.18257570e-02 -2.78148964e-03 -2.39057252e-02  1.96928364e-02\n",
      "  -4.03719637e-02  1.14793477e-02  1.50577001e-02 -4.93755484e-03\n",
      "  -1.18682373e-04 -2.39806455e-03  3.83339752e-04 -1.65840402e-04\n",
      "  -1.01895264e-05]]\n"
     ]
    }
   ],
   "source": [
    "print(optionE)"
   ]
  },
  {
   "cell_type": "markdown",
   "metadata": {},
   "source": [
    "**Following is the option prices ERRORS with EXPLICIT METHOD compared with Black Scholes with column represents different S0 values and row represents different dX values:**"
   ]
  },
  {
   "cell_type": "code",
   "execution_count": 13,
   "metadata": {},
   "outputs": [
    {
     "name": "stdout",
     "output_type": "stream",
     "text": [
      "[[ 1.37123580e-02  1.94632023e-02  2.69577780e-03 -1.13819449e-02\n",
      "  -7.44214180e-03 -1.63440741e-02 -2.86406454e-03  4.77439259e-03\n",
      "  -3.41017247e-03 -9.19792970e-04  2.03509834e-04 -4.56908719e-05\n",
      "   1.47619650e-05]\n",
      " [ 1.73663872e-02 -9.61406677e-03  9.94304568e-03  1.67610516e-02\n",
      "  -5.27806852e-02 -7.29254735e-03  7.47611606e-03 -1.42160894e-03\n",
      "   3.95102604e-03  5.89284820e-04  3.55012943e-04 -2.43154515e-05\n",
      "  -1.45026905e-05]\n",
      " [ 3.18257570e-02 -2.78148964e-03 -2.39057252e-02  1.96928364e-02\n",
      "  -4.03719637e-02  1.14793477e-02  1.50577001e-02 -4.93755484e-03\n",
      "  -1.18682373e-04 -2.39806455e-03  3.83339752e-04 -1.65840402e-04\n",
      "  -1.01895264e-05]]\n"
     ]
    }
   ],
   "source": [
    "print(Err_EFD)"
   ]
  },
  {
   "cell_type": "code",
   "execution_count": 14,
   "metadata": {},
   "outputs": [],
   "source": [
    "###############IFD######################\n",
    "def f_IFD(S0,dX,sigma,dt,r,K,steps):\n",
    "    Pu = -0.5*dt*(sigma**2/(dX**2)+(r-sigma**2/2)/(dX))\n",
    "    Pm = 1+dt*sigma**2/(dX**2) + r*dt\n",
    "    Pd = -0.5*dt*(sigma**2/(dX**2)-(r-sigma**2/2)/(dX))\n",
    "    \n",
    "    TerP = np.arange(np.log(20)+dX,np.log(1)-dX,-dX)\n",
    "    index = np.where(np.exp(TerP)<S0)[0][0]\n",
    "    N = len(TerP)\n",
    "    A = np.zeros(shape = (N,N))\n",
    "    move = np.array([0,1,2])\n",
    "    A[0,[0,1]] = [1,-1]\n",
    "    A[1,move] = [Pu,Pm,Pd]\n",
    "    for i in range(N-3):\n",
    "        A[i+1,move+i] = [Pu,Pm,Pd]\n",
    "    A[-2,[-3,-2,-1]] = [Pu,Pm,Pd]\n",
    "    A[-1,[-2,-1]] = [1,-1]\n",
    "    \n",
    "    F = np.maximum(K - np.exp(TerP),0)\n",
    "    \n",
    "    B = np.zeros(N)\n",
    "    B[1:-1]= F[1:-1]\n",
    "    B[-1] = np.exp(TerP[-2])-np.exp(TerP[-1])\n",
    "    \n",
    "    for i in range(steps):\n",
    "        F = np.dot(np.linalg.inv(A),B)\n",
    "        B = np.zeros(N)\n",
    "        B[1:-1]= F[1:-1]\n",
    "        B[-1] = np.exp(TerP[-2])-np.exp(TerP[-1])\n",
    "    option = np.mean([F[index-1],F[index]])\n",
    "    return option\n",
    "\n",
    "optionI = np.zeros((3,13))\n",
    "for i in range(3):\n",
    "    for j in range(13):\n",
    "        optionI[i,j] = f_IFD(S[j],dX[i],sigma,dt,r,K,steps)\n",
    "\n",
    "Err_IFD = BS_EFD - optionI"
   ]
  },
  {
   "cell_type": "markdown",
   "metadata": {},
   "source": [
    "**Following is the option prices calculated by IMPLICIT METHOD with column represents different S0 values and row represents different dX values:**"
   ]
  },
  {
   "cell_type": "code",
   "execution_count": 18,
   "metadata": {},
   "outputs": [
    {
     "name": "stdout",
     "output_type": "stream",
     "text": [
      "[[5.78615809e+00 4.77987335e+00 3.79620443e+00 2.81324436e+00\n",
      "  1.84818180e+00 1.03731054e+00 4.64793689e-01 1.65396135e-01\n",
      "  5.54744034e-02 1.45954925e-02 2.97585487e-03 7.21040535e-04\n",
      "  1.17320123e-04]\n",
      " [5.77770751e+00 4.80301019e+00 3.78178412e+00 2.77681125e+00\n",
      "  1.88475334e+00 1.02060432e+00 4.49471776e-01 1.69001398e-01\n",
      "  4.72665970e-02 1.27939425e-02 3.80624496e-03 6.76593934e-04\n",
      "  1.43367723e-04]\n",
      " [5.76803507e+00 4.80212986e+00 3.82281916e+00 2.78216134e+00\n",
      "  1.88109112e+00 1.00944414e+00 4.46860453e-01 1.74992002e-01\n",
      "  5.21952606e-02 1.60484797e-02 2.79061044e-03 8.42000965e-04\n",
      "  1.43323902e-04]]\n"
     ]
    }
   ],
   "source": [
    "print(optionI)"
   ]
  },
  {
   "cell_type": "markdown",
   "metadata": {},
   "source": [
    "**Following is the option prices ERRORS with IMPLICIT METHOD compared with Black Scholes with column represents different S0 values and row represents different dX values:**"
   ]
  },
  {
   "cell_type": "code",
   "execution_count": 17,
   "metadata": {},
   "outputs": [
    {
     "name": "stdout",
     "output_type": "stream",
     "text": [
      "[[ 1.58286438e-02  2.21135696e-02  5.85339343e-03 -7.88692764e-03\n",
      "  -3.91320875e-03 -1.28824154e-02 -9.91545740e-05  6.14072864e-03\n",
      "  -3.01478027e-03 -9.44354280e-04  1.31611936e-04 -8.64787335e-05\n",
      "   1.46577856e-06]\n",
      " [ 2.42792216e-02 -1.02326877e-03  2.02737010e-02  2.85461830e-02\n",
      "  -4.04847472e-02  3.82379965e-03  1.52227583e-02  2.53546515e-03\n",
      "   5.19302609e-03  8.57195783e-04 -6.98778148e-04 -4.20321323e-05\n",
      "  -2.45818214e-05]\n",
      " [ 3.39516641e-02 -1.42944369e-04 -2.07613364e-02  2.31960938e-02\n",
      "  -3.68225278e-02  1.49839850e-02  1.78340819e-02 -3.45513839e-03\n",
      "   2.64362551e-04 -2.39734147e-03  3.16856365e-04 -2.07439163e-04\n",
      "  -2.45380008e-05]]\n"
     ]
    }
   ],
   "source": [
    "print(Err_IFD)"
   ]
  },
  {
   "cell_type": "code",
   "execution_count": 19,
   "metadata": {},
   "outputs": [],
   "source": [
    "###############CNFD######################\n",
    "def f_CNFD(S0,dX,sigma,dt,r,K,steps):\n",
    "    Pu = -1/4*dt*(sigma**2/(dX**2)+(r-sigma**2/2)/(dX))\n",
    "    Pm = 1+dt*sigma**2/(2*dX**2) + r*dt/2\n",
    "    Pd = -1/4*dt*(sigma**2/(dX**2)-(r-sigma**2/2)/(dX))\n",
    "    \n",
    "    TerP = np.arange(np.log(20)+dX,np.log(1)-dX,-dX)    \n",
    "    F = np.maximum(K - np.exp(TerP),0)\n",
    "    \n",
    "    index = np.where(np.exp(TerP)<S0)[0][0]\n",
    "    N = len(TerP)\n",
    "    move = np.array([0,1,2])\n",
    "    X = np.zeros(shape = (N,N))\n",
    "    X[0,[0,1]] = 0\n",
    "    X[1,move] = [-Pu,-(Pm-2),-Pd]\n",
    "    for i in range(1,(N-3)):\n",
    "        X[i+1,move+i] = [-Pu,-(Pm-2),-Pd]\n",
    "    X[-2,move+N-3] = [-Pu,-(Pm-2),-Pd]\n",
    "    \n",
    "    Y = np.zeros(N)\n",
    "    Y[-1] = np.exp(TerP[-2])-np.exp(TerP[-1])\n",
    "    \n",
    "    A = np.zeros(shape = (N,N))\n",
    "    A[0,[0,1]] = [1,-1]\n",
    "    A[1,move] = [Pu,Pm,Pd]\n",
    "    for i in range(1,(N-3)):\n",
    "        A[i+1,move+i] = [Pu,Pm,Pd]\n",
    "    A[-2,move+N-3] = [Pu,Pm,Pd]\n",
    "    A[-1,[-2,-1]] = [1,-1]\n",
    "    \n",
    "    B = np.dot(np.linalg.inv(A),X)\n",
    "    D = np.dot(np.linalg.inv(A),Y)\n",
    "    \n",
    "    for i in range(steps):\n",
    "        F = np.dot(B,F)+D\n",
    "    \n",
    "    option = np.mean([F[index],F[index-1]])\n",
    "    return option\n",
    "\n",
    "optionCN = np.zeros((3,13))\n",
    "for i in range(3):\n",
    "    for j in range(13):\n",
    "        optionCN[i,j] = f_CNFD(S[j],dX[i],sigma,dt,r,K,steps)\n",
    "\n",
    "Err_CNFD = BS_EFD - optionCN"
   ]
  },
  {
   "cell_type": "markdown",
   "metadata": {},
   "source": [
    "**Following is the option prices calculated by CRANK-NICOLSON METHOD with column represents different S0 values and row represents different dX values:**"
   ]
  },
  {
   "cell_type": "code",
   "execution_count": 20,
   "metadata": {},
   "outputs": [
    {
     "name": "stdout",
     "output_type": "stream",
     "text": [
      "[[5.78615025e+00 4.77986543e+00 3.79618944e+00 2.81315496e+00\n",
      "  1.84800517e+00 1.03735518e+00 4.65072477e-01 1.65546083e-01\n",
      "  5.54490323e-02 1.45137172e-02 2.92332848e-03 6.96397803e-04\n",
      "  1.09897568e-04]\n",
      " [5.77769967e+00 4.80300227e+00 3.78176861e+00 2.77671722e+00\n",
      "  1.88457606e+00 1.02065681e+00 4.49751356e-01 1.69154845e-01\n",
      "  4.72259555e-02 1.27133178e-02 3.74858670e-03 6.53347323e-04\n",
      "  1.35037185e-04]\n",
      " [5.76802723e+00 4.80212194e+00 3.82280456e+00 2.78206810e+00\n",
      "  1.88091432e+00 1.00950193e+00 4.47139902e-01 1.75151977e-01\n",
      "  5.21634270e-02 1.59674806e-02 2.74066139e-03 8.15729714e-04\n",
      "  1.35100459e-04]]\n"
     ]
    }
   ],
   "source": [
    "print(optionCN)"
   ]
  },
  {
   "cell_type": "markdown",
   "metadata": {},
   "source": [
    "**Following is the option prices ERRORS with CRANK-NICOLSON METHOD compared with Black Scholes with column represents different S0 values and row represents different dX values:**"
   ]
  },
  {
   "cell_type": "code",
   "execution_count": 22,
   "metadata": {},
   "outputs": [
    {
     "name": "stdout",
     "output_type": "stream",
     "text": [
      "[[ 1.58364851e-02  2.21214876e-02  5.86838001e-03 -7.79753206e-03\n",
      "  -3.73657477e-03 -1.29270547e-02 -3.77942894e-04  5.99078022e-03\n",
      "  -2.98940920e-03 -8.62578907e-04  1.84138327e-04 -6.18360017e-05\n",
      "   8.88833323e-06]\n",
      " [ 2.42870629e-02 -1.01535244e-03  2.02892182e-02  2.86402128e-02\n",
      "  -4.03074669e-02  3.77131384e-03  1.49431781e-02  2.38201803e-03\n",
      "   5.23366758e-03  9.37820477e-04 -6.41119890e-04 -1.87855218e-05\n",
      "  -1.62512836e-05]\n",
      " [ 3.39595054e-02 -1.35023367e-04 -2.07467338e-02  2.32893290e-02\n",
      "  -3.66457267e-02  1.49261921e-02  1.75546327e-02 -3.61511374e-03\n",
      "   2.96196123e-04 -2.31634239e-03  3.66805423e-04 -1.81167913e-04\n",
      "  -1.63145582e-05]]\n"
     ]
    }
   ],
   "source": [
    "print(Err_CNFD)"
   ]
  },
  {
   "cell_type": "markdown",
   "metadata": {},
   "source": [
    "# Problem 2"
   ]
  },
  {
   "cell_type": "code",
   "execution_count": 23,
   "metadata": {},
   "outputs": [],
   "source": [
    "#Problem 2-----------------------------------------------------\n",
    "S0 = 10\n",
    "sigma = 0.2\n",
    "r = 0.04\n",
    "dt = 0.002\n",
    "dS = 0.25\n",
    "K = 10\n",
    "T = 0.5\n",
    "steps = int(T/dt)"
   ]
  },
  {
   "cell_type": "markdown",
   "metadata": {},
   "source": [
    "**Following is the function that calculates the option prices by using GENERALIZED FINITE-DIFFERENCE method**"
   ]
  },
  {
   "cell_type": "code",
   "execution_count": 24,
   "metadata": {},
   "outputs": [],
   "source": [
    "###############Generalized Finite-Difference######################\n",
    "def f_A_PDE(a,dS,r,sigma,dt,S0,K,steps,name):\n",
    "    TerP = np.arange(0,20+dS,dS)\n",
    "    index = np.abs(TerP-S0).argmin()\n",
    "    n = len(TerP)\n",
    "    \n",
    "    j = np.arange(1,n-1,1)\n",
    "    alpha = a\n",
    "    a1 = 0.5*((sigma**2)*(j**2)-r*j)*(1-alpha)\n",
    "    a2 = -1/dt-((sigma**2)*(j**2)+r)*(1-alpha)\n",
    "    a3 = 0.5*((sigma**2)*(j**2)+r*j)*(1-alpha)\n",
    "    b1 = 0.5*((sigma**2)*(j**2)-r*j)*alpha\n",
    "    b2 = 1/dt-((sigma**2)*(j**2)+r)*alpha\n",
    "    b3 = 0.5*((sigma**2)*(j**2)+r*j)*alpha\n",
    "    \n",
    "    P = np.maximum(np.round(K - TerP,4),0)\n",
    "    C = np.maximum(np.round(TerP - K,4),0)\n",
    "    \n",
    "    A = np.zeros(shape = (n,n))\n",
    "    move = np.array([0,1,2])\n",
    "    A[0,[0,1]] = [1,-1]\n",
    "    for i in range(n-2):\n",
    "        A[i+1,move+i] = [a1[i],a2[i],a3[i]]\n",
    "    A[-1,[-2,-1]] = [1,-1]\n",
    "    \n",
    "    B = np.zeros(shape = (n,n))\n",
    "    for i in range(n-2):\n",
    "        B[i+1,move+i] = [-b1[i],-b2[i],-b3[i]]\n",
    "    \n",
    "    eC = np.zeros(n)\n",
    "    eC[0] = TerP[0]-TerP[1]\n",
    "    eP = np.zeros(n)\n",
    "    eP[0] = TerP[-2]-TerP[-1]\n",
    "    \n",
    "    for i in range(steps):\n",
    "        C = np.dot(np.linalg.inv(A),np.dot(B,C)+eC)\n",
    "        C = np.maximum(C,np.maximum(np.round(TerP - K,4),0))\n",
    "        P = np.dot(np.linalg.inv(A),np.dot(B,P)+eP)\n",
    "        P = np.maximum(P,np.maximum(np.round(K - TerP,4),0))\n",
    "        \n",
    "    if name == \"C\":\n",
    "        return C[index]\n",
    "    else:\n",
    "        return P[index]"
   ]
  },
  {
   "cell_type": "markdown",
   "metadata": {},
   "source": [
    "**The following generates the options prices for American Put/Call Option**"
   ]
  },
  {
   "cell_type": "code",
   "execution_count": 25,
   "metadata": {},
   "outputs": [],
   "source": [
    "optionC = np.zeros((9,13))\n",
    "optionP = np.zeros((9,13))\n",
    "S = np.arange(4,17,1)\n",
    "dS = [0.25,1,1.25]\n",
    "a = [1,0,0.5]\n",
    "\n",
    "pS = [0,0,0,1,1,1,2,2,2]\n",
    "pa = [0,1,2,0,1,2,0,1,2]\n",
    "for i in range(9):\n",
    "    for j in range(len(S)):\n",
    "        optionC[i,j] = f_A_PDE(a[pa[i]],dS[pS[i]],r,sigma,dt,S[j],K,steps,\"C\")\n",
    "for i in range(9):\n",
    "    for j in range(len(S)):\n",
    "        optionP[i,j] = f_A_PDE(a[pa[i]],dS[pS[i]],r,sigma,dt,S[j],K,steps,\"P\")"
   ]
  },
  {
   "cell_type": "code",
   "execution_count": 26,
   "metadata": {},
   "outputs": [
    {
     "name": "stdout",
     "output_type": "stream",
     "text": [
      "[[3.23696901e-10 4.73061853e-07 8.95673120e-05 3.48932677e-03\n",
      "  4.20739932e-02 2.21037817e-01 6.60797846e-01 1.36832742e+00\n",
      "  2.25001819e+00 3.21149181e+00 4.20060288e+00 5.19630645e+00\n",
      "  6.18995908e+00]\n",
      " [7.15081363e-10 6.94829322e-07 1.04309683e-04 3.65166541e-03\n",
      "  4.24139964e-02 2.20923454e-01 6.60217199e-01 1.36799609e+00\n",
      "  2.25004803e+00 3.21150804e+00 4.20007668e+00 5.19418020e+00\n",
      "  6.18404856e+00]\n",
      " [4.91185022e-10 5.77781039e-07 9.68547354e-05 3.57066850e-03\n",
      "  4.22441497e-02 2.20980311e-01 6.60507750e-01 1.36816144e+00\n",
      "  2.25003115e+00 3.21148329e+00 4.20024434e+00 5.19487489e+00\n",
      "  6.18595847e+00]\n",
      " [7.92163922e-07 2.64510236e-05 5.06920716e-04 5.88940615e-03\n",
      "  4.29164858e-02 2.01044471e-01 6.23047544e-01 1.34812264e+00\n",
      "  2.24495750e+00 3.21142689e+00 4.20098941e+00 5.19616136e+00\n",
      "  6.18932658e+00]\n",
      " [8.98402156e-07 2.87121514e-05 5.31679021e-04 6.02573911e-03\n",
      "  4.32324386e-02 2.01054174e-01 6.22287807e-01 1.34785662e+00\n",
      "  2.24494162e+00 3.21103546e+00 4.19910596e+00 5.19019725e+00\n",
      "  6.17409466e+00]\n",
      " [8.44309397e-07 2.75709614e-05 5.19263256e-04 5.95763041e-03\n",
      "  4.30747307e-02 2.01048932e-01 6.22667641e-01 1.34798610e+00\n",
      "  2.24492747e+00 3.21111016e+00 4.19952831e+00 5.19140032e+00\n",
      "  6.17673664e+00]\n",
      " [1.18170076e-06 5.71238451e-05 1.38619739e-03 1.83159179e-02\n",
      "  1.83159179e-02 1.37262478e-01 5.96307245e-01 1.55398273e+00\n",
      "  2.72281218e+00 2.72281218e+00 3.95284590e+00 5.19604680e+00\n",
      "  6.43617980e+00]\n",
      " [1.30190422e-06 6.06167536e-05 1.42978419e-03 1.85328723e-02\n",
      "  1.85328723e-02 1.37463642e-01 5.95522972e-01 1.55385564e+00\n",
      "  2.72254696e+00 2.72254696e+00 3.95088809e+00 5.18808734e+00\n",
      "  6.41198505e+00]\n",
      " [1.24099393e-06 5.88597004e-05 1.40796747e-03 1.84245399e-02\n",
      "  1.84245399e-02 1.37362970e-01 5.95913751e-01 1.55390480e+00\n",
      "  2.72256656e+00 2.72256656e+00 3.95121063e+00 5.18923776e+00\n",
      "  6.41480464e+00]]\n"
     ]
    }
   ],
   "source": [
    "print(optionC)"
   ]
  },
  {
   "cell_type": "markdown",
   "metadata": {},
   "source": [
    "|dS = 0.25|S0=4|S0=5|S0=6|S0=7|S0=8|S0=9|S0=10|S0=11|S0=12|S0=13|S0=14|S0=15|S0=16|\n",
    "|---------|----|----|----|----|----|----|-----|-----|-----|-----|-----|-----|-----|\n",
    "|Implicit|3.23697e-10|4.73062e-07|8.95673e-05|0.00348933|0.042074|0.221038|0.660798|1.36833|2.25002|3.21149|4.2006|5.19631|6.18996|\n",
    "|Explitcit|7.15081e-10|6.94829e-07|0.00010431|0.00365167|0.042414|0.220923|0.660217|1.368|2.25005|3.21151|4.20008|5.19418|6.18405|\n",
    "|Crank-Nicolson|4.91185e-10|5.77781e-07|9.68547e-05|0.00357067|0.0422441|0.22098|0.660508|1.36816|2.25003|3.21148|4.20024|5.19487|6.18596|\n",
    "\n"
   ]
  },
  {
   "cell_type": "markdown",
   "metadata": {},
   "source": [
    "|dS = 1|S0=4|S0=5|S0=6|S0=7|S0=8|S0=9|S0=10|S0=11|S0=12|S0=13|S0=14|S0=15|S0=16|\n",
    "|---------|----|----|----|----|----|----|-----|-----|-----|-----|-----|-----|-----|\n",
    "|Implicit|7.92164e-07|2.6451e-05|0.000506921|0.00588941|0.0429165|0.201044|0.623048|1.34812|2.24496|3.21143|4.20099|5.19616|6.18933|\n",
    "|Explitcit|8.98402e-07|2.87122e-05|0.000531679|0.00602574|0.0432324|0.201054|0.622288|1.34786|2.24494|3.21104|4.19911|5.1902|6.17409|\n",
    "|Crank-Nicolson|8.44309e-07|2.7571e-05|0.000519263|0.00595763|0.0430747|0.201049|0.622668|1.34799|2.24493|3.21111|4.19953|5.1914|6.17674|\n"
   ]
  },
  {
   "cell_type": "markdown",
   "metadata": {},
   "source": [
    "|dS = 1.25|S0=4|S0=5|S0=6|S0=7|S0=8|S0=9|S0=10|S0=11|S0=12|S0=13|S0=14|S0=15|S0=16|\n",
    "|---------|----|----|----|----|----|----|-----|-----|-----|-----|-----|-----|-----|\n",
    "|Implicit|1.1817e-06|5.71238e-05|0.0013862|0.0183159|0.0183159|\t0.137262|\t0.596307\t|1.55398\t|2.72281\t|2.72281\t|3.95285\t|5.19605\t|6.43618|\n",
    "|Explitcit|1.3019e-06\t|6.06168e-05\t|0.00142978|\t0.0185329|\t0.0185329|\t0.137464|\t0.595523|\t1.55386|\t2.72255|\t2.72255\t|3.95089|\t5.18809\t|6.41199|\n",
    "|Crank-Nicolson|1.24099e-06\t|5.88597e-05|\t0.00140797|\t0.0184245|\t0.0184245|\t0.137363|\t0.595914|\t1.5539|\t2.72257|\t2.72257|\t3.95121\t|5.18924\t|6.4148|"
   ]
  },
  {
   "cell_type": "code",
   "execution_count": 27,
   "metadata": {},
   "outputs": [
    {
     "name": "stdout",
     "output_type": "stream",
     "text": [
      "[[6.00000000e+00 5.00000000e+00 4.00000000e+00 3.00000000e+00\n",
      "  2.00000000e+00 1.08128231e+00 4.80663846e-01 1.75062833e-01\n",
      "  5.31157712e-02 1.37847278e-02 3.14472884e-03 6.46276053e-04\n",
      "  1.22144542e-04]\n",
      " [6.00000000e+00 5.00000000e+00 4.00000000e+00 3.00000000e+00\n",
      "  2.00000000e+00 1.08057257e+00 4.79729532e-01 1.74591758e-01\n",
      "  5.31327553e-02 1.39374913e-02 3.25050207e-03 6.92775642e-04\n",
      "  1.38052364e-04]\n",
      " [6.00000000e+00 5.00000000e+00 4.00000000e+00 3.00000000e+00\n",
      "  2.00000000e+00 1.08092228e+00 4.80191555e-01 1.74823182e-01\n",
      "  5.31222962e-02 1.38607313e-02 3.19766197e-03 6.69528843e-04\n",
      "  1.30056887e-04]\n",
      " [6.00000000e+00 5.00000000e+00 4.00000000e+00 3.00000000e+00\n",
      "  2.00000000e+00 1.05162709e+00 4.39978944e-01 1.54452305e-01\n",
      "  4.81521757e-02 1.38759316e-02 3.79614482e-03 1.00389879e-03\n",
      "  2.59842593e-04]\n",
      " [6.00000000e+00 5.00000000e+00 4.00000000e+00 3.00000000e+00\n",
      "  2.00000000e+00 1.05125183e+00 4.39081179e-01 1.54173471e-01\n",
      "  4.82546415e-02 1.40218530e-02 3.88624541e-03 1.04610273e-03\n",
      "  2.76910435e-04]\n",
      " [6.00000000e+00 5.00000000e+00 4.00000000e+00 3.00000000e+00\n",
      "  2.00000000e+00 1.05143853e+00 4.39529996e-01 1.54312272e-01\n",
      "  4.82033850e-02 1.39490939e-02 3.84130557e-03 1.02501380e-03\n",
      "  2.68354863e-04]\n",
      " [6.25000000e+00 5.00000000e+00 3.75000000e+00 2.50000000e+00\n",
      "  2.50000000e+00 1.25337401e+00 4.15327729e-01 1.09703667e-01\n",
      "  2.56281147e-02 2.56281147e-02 5.59366486e-03 1.17666331e-03\n",
      "  2.43108776e-04]\n",
      " [6.25000000e+00 5.00000000e+00 3.75000000e+00 2.50000000e+00\n",
      "  2.50000000e+00 1.25331072e+00 4.14427377e-01 1.09625147e-01\n",
      "  2.57729041e-02 2.57729041e-02 5.69067855e-03 1.21736388e-03\n",
      "  2.57124201e-04]\n",
      " [6.25000000e+00 5.00000000e+00 3.75000000e+00 2.50000000e+00\n",
      "  2.50000000e+00 1.25334221e+00 4.14877237e-01 1.09664129e-01\n",
      "  2.57006742e-02 2.57006742e-02 5.64228210e-03 1.19702451e-03\n",
      "  2.50097916e-04]]\n"
     ]
    }
   ],
   "source": [
    "print(optionP)"
   ]
  },
  {
   "cell_type": "markdown",
   "metadata": {},
   "source": [
    "|dS = 0.25|S0=4|S0=5|S0=6|S0=7|S0=8|S0=9|S0=10|S0=11|S0=12|S0=13|S0=14|S0=15|S0=16|\n",
    "|---------|----|----|----|----|----|----|-----|-----|-----|-----|-----|-----|-----|\n",
    "|Implicit|6|\t5\t|4|3\t|2\t|1.08128\t|0.480664\t|0.175063\t|0.0531158\t|0.0137847|\t0.00314473\t|0.000646276|\t0.000122145|\n",
    "|Explitcit|6\t|5|\t4\t|3|\t2|\t1.08057\t|0.47973|\t0.174592|\t0.0531328|\t0.0139375|\t0.0032505\t|0.000692776|\t0.000138052|\n",
    "|Crank-Nicolson|6|\t5\t|4\t|3|\t2\t|1.08092\t|0.480192|\t0.174823\t|0.0531223||\t0.0138607|\t0.00319766|\t0.000669529\t|0.000130057|\n",
    "\n"
   ]
  },
  {
   "cell_type": "markdown",
   "metadata": {},
   "source": [
    "|dS = 1|S0=4|S0=5|S0=6|S0=7|S0=8|S0=9|S0=10|S0=11|S0=12|S0=13|S0=14|S0=15|S0=16|\n",
    "|---------|----|----|----|----|----|----|-----|-----|-----|-----|-----|-----|-----|\n",
    "|Implicit|6|\t5\t|4\t|3|\t2|\t1.05163|\t0.439979|\t0.154452\t|0.0481522\t|0.0138759\t|0.00379614\t|0.0010039|\t0.000259843|\n",
    "|Explitcit|6\t|5|\t4\t|3\t|2|\t1.05125\t|0.439081|\t0.154173\t|0.0482546\t|0.0140219|\t0.00388625|\t0.0010461|\t0.00027691|\n",
    "|Crank-Nicolson|6\t|5\t|4\t|3\t||2|\t1.05144|\t0.43953\t|0.154312\t|0.0482034\t|0.0139491|\t0.00384131\t|0.00102501\t|0.000268355|\n"
   ]
  },
  {
   "cell_type": "markdown",
   "metadata": {},
   "source": [
    "|dS = 1.25|S0=4|S0=5|S0=6|S0=7|S0=8|S0=9|S0=10|S0=11|S0=12|S0=13|S0=14|S0=15|S0=16|\n",
    "|---------|----|----|----|----|----|----|-----|-----|-----|-----|-----|-----|-----|\n",
    "|Implicit|6.25|\t5|\t3.75|\t2.5|\t2.5\t|1.25337\t|0.415328\t|0.109704|\t0.0256281|\t0.0256281\t|0.00559366|\t0.00117666|\t0.000243109|\n",
    "|Explitcit|6.25\t|5\t|3.75|\t2.5\t|2.5\t|1.25331|\t0.414427\t|0.109625|\t0.0257729\t|0.0257729|\t0.00569068|\t0.00121736\t|0.000257124|\n",
    "|Crank-Nicolson|6.25\t|5|\t3.75\t|2.5\t|2.5\t|1.25334\t|0.414877|\t0.109664|\t0.0257007\t|0.0257007\t|0.00564228\t|0.00119702|\t0.000250098|"
   ]
  },
  {
   "cell_type": "markdown",
   "metadata": {},
   "source": [
    "**The followings are plots**"
   ]
  },
  {
   "cell_type": "code",
   "execution_count": 28,
   "metadata": {},
   "outputs": [
    {
     "data": {
      "text/plain": [
       "Text(0, 0.5, 'Option Prices')"
      ]
     },
     "execution_count": 28,
     "metadata": {},
     "output_type": "execute_result"
    },
    {
     "data": {
      "image/png": "[encoded data removed]",
      "text/plain": [
       "<Figure size 576x432 with 1 Axes>"
      ]
     },
     "metadata": {
      "needs_background": "light"
     },
     "output_type": "display_data"
    },
    {
     "data": {
      "image/png": "[encoded data removed]",
      "text/plain": [
       "<Figure size 576x432 with 1 Axes>"
      ]
     },
     "metadata": {
      "needs_background": "light"
     },
     "output_type": "display_data"
    },
    {
     "data": {
      "image/png": "[encoded data removed]",
      "text/plain": [
       "<Figure size 576x432 with 1 Axes>"
      ]
     },
     "metadata": {
      "needs_background": "light"
     },
     "output_type": "display_data"
    }
   ],
   "source": [
    "name = [\"explicit method\",\"implicit method\",\"Crank-Nicolson\"]\n",
    "Shape = [\"s\",\"v\",\"o\"]\n",
    "plt.figure(1,figsize = (8,6))\n",
    "for i in range(3):\n",
    "    plt.plot(np.arange(4,17,1),optionC[i,:],marker = Shape[i],label = name[i])\n",
    "plt.legend()\n",
    "plt.title(\"American Call with dS = 0.25\")\n",
    "plt.xlabel(\"S0\")\n",
    "plt.ylabel(\"Option Prices\")\n",
    "\n",
    "plt.figure(2,figsize = (8,6))\n",
    "for i in range(3):\n",
    "    plt.plot(np.arange(4,17,1),optionC[i+3,:],marker = Shape[i],label = name[i])\n",
    "plt.legend()\n",
    "plt.title(\"American Call with dS = 1\")\n",
    "plt.xlabel(\"S0\")\n",
    "plt.ylabel(\"Option Prices\")\n",
    "\n",
    "plt.figure(3,figsize = (8,6))\n",
    "for i in range(3):\n",
    "    plt.plot(np.arange(4,17,1),optionC[i+6,:],marker = Shape[i],label = name[i])\n",
    "plt.legend()\n",
    "plt.title(\"American Call with dS = 1.25\")\n",
    "plt.xlabel(\"S0\")\n",
    "plt.ylabel(\"Option Prices\")"
   ]
  },
  {
   "cell_type": "markdown",
   "metadata": {},
   "source": [
    "**The plots show us that all the three methods are giving the very similar results since they are all overlaying on each other**"
   ]
  },
  {
   "cell_type": "code",
   "execution_count": 29,
   "metadata": {},
   "outputs": [
    {
     "data": {
      "text/plain": [
       "Text(0, 0.5, 'Option Prices')"
      ]
     },
     "execution_count": 29,
     "metadata": {},
     "output_type": "execute_result"
    },
    {
     "data": {
      "image/png": "[encoded data removed]",
      "text/plain": [
       "<Figure size 576x432 with 1 Axes>"
      ]
     },
     "metadata": {
      "needs_background": "light"
     },
     "output_type": "display_data"
    },
    {
     "data": {
      "image/png": "[encoded data removed]",
      "text/plain": [
       "<Figure size 576x432 with 1 Axes>"
      ]
     },
     "metadata": {
      "needs_background": "light"
     },
     "output_type": "display_data"
    },
    {
     "data": {
      "image/png": "[encoded data removed]",
      "text/plain": [
       "<Figure size 576x432 with 1 Axes>"
      ]
     },
     "metadata": {
      "needs_background": "light"
     },
     "output_type": "display_data"
    }
   ],
   "source": [
    "plt.figure(4,figsize = (8,6))\n",
    "for i in range(3):\n",
    "    plt.plot(np.arange(4,17,1),optionP[i,:],marker = Shape[i],label = name[i])\n",
    "plt.legend()\n",
    "plt.title(\"American Put with dS = 0.25\")\n",
    "plt.xlabel(\"S0\")\n",
    "plt.ylabel(\"Option Prices\")\n",
    "\n",
    "plt.figure(5,figsize = (8,6))\n",
    "for i in range(3):\n",
    "    plt.plot(np.arange(4,17,1),optionP[i+3,:],marker = Shape[i],label = name[i])\n",
    "plt.legend()\n",
    "plt.title(\"American Put with dS = 1\")\n",
    "plt.xlabel(\"S0\")\n",
    "plt.ylabel(\"Option Prices\")\n",
    "\n",
    "plt.figure(6,figsize = (8,6))\n",
    "for i in range(3):\n",
    "    plt.plot(np.arange(4,17,1),optionP[i+6,:],marker = Shape[i],label = name[i])\n",
    "plt.legend()\n",
    "plt.title(\"American Put with dS = 1.25\")\n",
    "plt.xlabel(\"S0\")\n",
    "plt.ylabel(\"Option Prices\")"
   ]
  },
  {
   "cell_type": "markdown",
   "metadata": {},
   "source": [
    "**The plots show us that all the three methods are also giving the very similar results since they are all overlaying on each other**"
   ]
  }
 ],
 "metadata": {
  "kernelspec": {
   "display_name": "Python 3",
   "language": "python",
   "name": "python3"
  },
  "language_info": {
   "codemirror_mode": {
    "name": "ipython",
    "version": 3
   },
   "file_extension": ".py",
   "mimetype": "text/x-python",
   "name": "python",
   "nbconvert_exporter": "python",
   "pygments_lexer": "ipython3",
   "version": "3.7.1"
  }
 },
 "nbformat": 4,
 "nbformat_minor": 2
}
