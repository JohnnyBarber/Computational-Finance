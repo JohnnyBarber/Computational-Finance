{
 "cells": [
  {
   "cell_type": "markdown",
   "metadata": {},
   "source": [
    "**Followings are functions from previous project:**"
   ]
  },
  {
   "cell_type": "code",
   "execution_count": 62,
   "metadata": {},
   "outputs": [],
   "source": [
    "import numpy as np\n",
    "import math\n",
    "import matplotlib.pyplot as plt\n",
    "import scipy.stats as bs\n",
    "\n",
    "a = 7**5\n",
    "b = 0\n",
    "m = 2**31-1\n",
    "\n",
    "#This function generates uniform distribution\n",
    "def f_unif(n,x_0):\n",
    "    U = [None] * (n+1)\n",
    "    U[0] = x_0\n",
    "    for i in range(1,(n+1)):\n",
    "        U[i] = np.mod(a*U[i-1]+b,m)\n",
    "    del U[0]\n",
    "    U = [x/m for x in U]\n",
    "    return U\n",
    "\n",
    "#This function generates normal distribution\n",
    "def f_norm(n,U):\n",
    "    Z_1 = [None]*n\n",
    "    Z_2 = [None]*n\n",
    "    for i in range(n):\n",
    "        Z_1[i] = np.sqrt(-2*np.log(U[2*i]))*np.cos(2*math.pi*U[2*i+1])\n",
    "        Z_2[i] = np.sqrt(-2*np.log(U[2*i]))*np.sin(2*math.pi*U[2*i+1])\n",
    "        i = i + 1\n",
    "    return Z_1+Z_2\n",
    "\n",
    "#This function generates a brownian motion\n",
    "def f_w(T,Z):\n",
    "    W = [np.sqrt(T)*x for x in Z]\n",
    "    return W"
   ]
  },
  {
   "cell_type": "markdown",
   "metadata": {},
   "source": [
    "# Problem 1\n",
    "\n",
    "The following functions are used for computing probabilities:"
   ]
  },
  {
   "cell_type": "code",
   "execution_count": 65,
   "metadata": {},
   "outputs": [],
   "source": [
    "n = 1000\n",
    "x = 500\n",
    "Y0 = 3/4\n",
    "X0 = 1\n",
    "\n",
    "def f_YP(n,x,dt,Y0,k):\n",
    "    count = 0\n",
    "    All = [None]*100\n",
    "    for j in range(100):\n",
    "        U = f_unif(n,j+10)\n",
    "        Z = f_norm(x,U)\n",
    "        W = f_w(dt,Z)\n",
    "        Y = [None]*(n+1)\n",
    "        Y[0] = Y0\n",
    "        t = dt\n",
    "        for i in range(n):\n",
    "            Y[i+1] = Y[i] + (2/(1+t)*Y[i] + (1+t**3)/3)*dt+(1+t**3)/3*(W[i])\n",
    "            t = t + dt\n",
    "        if Y[n] > k:\n",
    "            count = count + 1\n",
    "        All[j] = Y[n]\n",
    "    out = [All,count]\n",
    "    return out\n",
    "\n",
    "def f_XV(n,x,dt,X0,k):\n",
    "    All = [None]*100\n",
    "    for j in range(100):\n",
    "        U = f_unif(n,j+100)\n",
    "        Z = f_norm(x,U)\n",
    "        W = f_w(dt,Z)\n",
    "        X = [None]*(n+1)\n",
    "        X[0] = X0\n",
    "        for i in range(n):\n",
    "            X[i+1] = X[i] + (1/5 - 1/2*X[i])*dt+2/3*(W[i])\n",
    "        All[j] = np.sign(X[n])*np.absolute(X[n])**k\n",
    "    return All"
   ]
  },
  {
   "cell_type": "markdown",
   "metadata": {},
   "source": [
    "**Each of the simulatoins runs $10^5$ calculations, thus, it takes a littile bit time to run each simulation** <br>"
   ]
  },
  {
   "cell_type": "code",
   "execution_count": 70,
   "metadata": {},
   "outputs": [
    {
     "name": "stderr",
     "output_type": "stream",
     "text": [
      "D:\\anaconda_distribution\\Anaconda\\lib\\site-packages\\ipykernel_launcher.py:15: RuntimeWarning: overflow encountered in int_scalars\n",
      "  from ipykernel import kernelapp as app\n"
     ]
    },
    {
     "name": "stdout",
     "output_type": "stream",
     "text": [
      "0.98\n"
     ]
    }
   ],
   "source": [
    "dt2 = 2/n\n",
    "P_Y2 = f_YP(n,x,dt2,Y0,5)[1]/100\n",
    "print(P_Y2)"
   ]
  },
  {
   "cell_type": "markdown",
   "metadata": {},
   "source": [
    "$P(Y_2 > 5) \\approx 0.98$"
   ]
  },
  {
   "cell_type": "code",
   "execution_count": 67,
   "metadata": {},
   "outputs": [
    {
     "name": "stderr",
     "output_type": "stream",
     "text": [
      "D:\\anaconda_distribution\\Anaconda\\lib\\site-packages\\ipykernel_launcher.py:15: RuntimeWarning: overflow encountered in int_scalars\n",
      "  from ipykernel import kernelapp as app\n"
     ]
    },
    {
     "name": "stdout",
     "output_type": "stream",
     "text": [
      "26.38584746299788\n"
     ]
    }
   ],
   "source": [
    "dt3 = 3/n\n",
    "E_Y3 = np.mean(f_YP(n,x,dt3,Y0,10000)[0])\n",
    "print(E_Y3)"
   ]
  },
  {
   "cell_type": "markdown",
   "metadata": {},
   "source": [
    "$E(Y_3) \\approx 26.38$"
   ]
  },
  {
   "cell_type": "code",
   "execution_count": 68,
   "metadata": {},
   "outputs": [
    {
     "name": "stderr",
     "output_type": "stream",
     "text": [
      "D:\\anaconda_distribution\\Anaconda\\lib\\site-packages\\ipykernel_launcher.py:15: RuntimeWarning: overflow encountered in int_scalars\n",
      "  from ipykernel import kernelapp as app\n"
     ]
    },
    {
     "name": "stdout",
     "output_type": "stream",
     "text": [
      "0.6555430986101816\n"
     ]
    }
   ],
   "source": [
    "E_X2_13 = np.mean(f_XV(n,x,dt2,X0,1/3))\n",
    "print(E_X2_13)"
   ]
  },
  {
   "cell_type": "markdown",
   "metadata": {},
   "source": [
    "$E(X_2^{\\frac{1}{3}}) \\approx 0.65$"
   ]
  },
  {
   "cell_type": "code",
   "execution_count": 69,
   "metadata": {},
   "outputs": [
    {
     "name": "stderr",
     "output_type": "stream",
     "text": [
      "D:\\anaconda_distribution\\Anaconda\\lib\\site-packages\\ipykernel_launcher.py:15: RuntimeWarning: overflow encountered in int_scalars\n",
      "  from ipykernel import kernelapp as app\n"
     ]
    },
    {
     "name": "stdout",
     "output_type": "stream",
     "text": [
      "3.9432667688269656\n"
     ]
    }
   ],
   "source": [
    "X2 = f_XV(n,x,dt2,X0,1)\n",
    "Y2 = f_YP(n,x,dt2,Y0,10000)[0]\n",
    "X2g1 = [None]*100\n",
    "for i in range(100):\n",
    "    if X2[i] > 1:\n",
    "        X2g1[i] = 1\n",
    "    else:\n",
    "        X2g1[i] = 0\n",
    "\n",
    "E = np.mean([a*b*c for a,b,c in zip(X2,Y2,X2g1)])\n",
    "print(E)"
   ]
  },
  {
   "cell_type": "markdown",
   "metadata": {},
   "source": [
    "$E(X_2Y_21(X_2>1)) \\approx 3.94$"
   ]
  },
  {
   "cell_type": "markdown",
   "metadata": {},
   "source": [
    "# Problem 2"
   ]
  },
  {
   "cell_type": "code",
   "execution_count": 9,
   "metadata": {},
   "outputs": [
    {
     "name": "stderr",
     "output_type": "stream",
     "text": [
      "D:\\anaconda_distribution\\Anaconda\\lib\\site-packages\\ipykernel_launcher.py:16: RuntimeWarning: overflow encountered in int_scalars\n",
      "  app.launch_new_instance()\n"
     ]
    },
    {
     "name": "stdout",
     "output_type": "stream",
     "text": [
      "1.3574080066094518\n"
     ]
    }
   ],
   "source": [
    "#2----------------------------------------------------\n",
    "def f_XV2(n,x,dt,X0,k):\n",
    "    All = [None]*100\n",
    "    for j in range(100):\n",
    "        U1 = f_unif(n,j+1000)\n",
    "        U2 = f_unif(n,j+2000)\n",
    "        Z1 = f_norm(x,U1)\n",
    "        Z2 = f_norm(x,U2)\n",
    "        W1 = f_w(dt,Z1)\n",
    "        W2 = f_w(dt,Z2)\n",
    "        X = [None]*(n+1)\n",
    "        X[0] = X0\n",
    "        for i in range(n):\n",
    "            X[i+1] = X[i] + 1/4*X[i]*dt + 1/3*X[i]*W1[i] - 3/4*X[i]*W2[i]\n",
    "        All[j] = np.sign(1+X[n])*np.absolute(1+X[n])**k\n",
    "    return All\n",
    "\n",
    "EX3_2 = np.mean(f_XV2(n,x,dt3,X0,1/3))\n",
    "print(EX3_2)"
   ]
  },
  {
   "cell_type": "markdown",
   "metadata": {},
   "source": [
    "$E(1+X_3)^{\\frac{1}{3}} \\approx 1.36$"
   ]
  },
  {
   "cell_type": "code",
   "execution_count": 11,
   "metadata": {},
   "outputs": [
    {
     "name": "stderr",
     "output_type": "stream",
     "text": [
      "D:\\anaconda_distribution\\Anaconda\\lib\\site-packages\\ipykernel_launcher.py:16: RuntimeWarning: overflow encountered in int_scalars\n",
      "  app.launch_new_instance()\n"
     ]
    },
    {
     "name": "stdout",
     "output_type": "stream",
     "text": [
      "1.3421793474167587\n"
     ]
    }
   ],
   "source": [
    "U1 = f_unif(n,1)\n",
    "U2 = f_unif(n,2)\n",
    "Z1 = f_norm(x,U1)\n",
    "Z2 = f_norm(x,U2)\n",
    "W1 = f_w(3,Z1)\n",
    "W2 = f_w(3,Z2)\n",
    "Y3 = [np.exp(-0.08*3+1/3*a+3/4*b) for a,b in zip(W1,W2)]\n",
    "EY3_2 = [(1+y)**(1/3) for y in Y3]\n",
    "EY3_2 = np.mean(EY3_2)\n",
    "print(EY3_2)"
   ]
  },
  {
   "cell_type": "markdown",
   "metadata": {},
   "source": [
    "$E(1+Y_3)^{\\frac{1}{3}} \\approx 1.34$"
   ]
  },
  {
   "cell_type": "markdown",
   "metadata": {},
   "source": [
    "# Problem 3\n",
    "**(a) pricing function for European Option**"
   ]
  },
  {
   "cell_type": "code",
   "execution_count": 14,
   "metadata": {},
   "outputs": [],
   "source": [
    "#3-------------------------------------------\n",
    "#a\n",
    "def Euro_Call(S0,T,X,r,sigma):\n",
    "    n = 1000\n",
    "    u = f_unif(n,1234)\n",
    "    z1 = f_norm(500,u)\n",
    "    z2 = [-x for x in z1]\n",
    "    w1 = f_w(T,z1)\n",
    "    w2 = f_w(T,z2)\n",
    "    x1 = S0*np.exp(sigma*np.array(w1)+(r-(sigma**2/2))*T)\n",
    "    x2 = S0*np.exp(sigma*np.array(w2)+(r-(sigma**2/2))*T)\n",
    "    ST_red1 = [None]*n\n",
    "    ST_red2 = [None]*n\n",
    "    for i in range(n):\n",
    "        if (x1[i]-X) > 0:\n",
    "            ST_red1[i] = x1[i]-X\n",
    "        else:\n",
    "            ST_red1[i] = 0\n",
    "        if (x2[i]-X) > 0:\n",
    "            ST_red2[i] = x2[i]-X\n",
    "        else:\n",
    "            ST_red2[i] = 0\n",
    "    c_red1 = np.array(ST_red1)*np.exp(-r*T)\n",
    "    c_red2 = np.array(ST_red2)*np.exp(-r*T)\n",
    "    c_red = np.mean((np.array(c_red1)+np.array(c_red2))/2)\n",
    "    return c_red"
   ]
  },
  {
   "cell_type": "markdown",
   "metadata": {},
   "source": [
    "**(b) Black-Scholes formula pricing function**"
   ]
  },
  {
   "cell_type": "code",
   "execution_count": 15,
   "metadata": {},
   "outputs": [],
   "source": [
    "#b\n",
    "def f_N(x):\n",
    "    d1 = 0.0498673470\n",
    "    d2 = 0.0211410061\n",
    "    d3 = 0.0032776263\n",
    "    d4 = 0.0000380036\n",
    "    d5 = 0.0000488906\n",
    "    d6 = 0.0000053830\n",
    "    if x >= 0:\n",
    "        N = 1 - 1/2*(1+d1*x+d2*x**2+d3*x**3 \\\n",
    "                     +d4*x**4+d5*x**5+d6*x**6)**(-16)\n",
    "    else:\n",
    "        N = 1 - (1 - 1/2*(1+d1*(-x)+d2*(-x)**2 \\\n",
    "                          +d3*(-x)**3+d4*(-x)**4+d5*(-x)**5+d6*(-x)**6)**(-16))\n",
    "    return N\n",
    "\n",
    "def B_S(S0,T,X,r,sigma):\n",
    "    d1 = (np.log(S0/X) + (r+(sigma**2)/2)*T)/(sigma*np.sqrt(T))\n",
    "    d2 = d1 - sigma*np.sqrt(T)\n",
    "    C = S0*f_N(d1) - np.exp(-r * T)*X*f_N(d2)\n",
    "    return C"
   ]
  },
  {
   "cell_type": "markdown",
   "metadata": {},
   "source": [
    "**(c) five greeks for prices from 15 to 25**"
   ]
  },
  {
   "cell_type": "code",
   "execution_count": 24,
   "metadata": {},
   "outputs": [
    {
     "name": "stderr",
     "output_type": "stream",
     "text": [
      "D:\\anaconda_distribution\\Anaconda\\lib\\site-packages\\ipykernel_launcher.py:16: RuntimeWarning: overflow encountered in int_scalars\n",
      "  app.launch_new_instance()\n"
     ]
    },
    {
     "data": {
      "text/plain": [
       "Text(0.5, 1.0, 'Black-Scholes')"
      ]
     },
     "execution_count": 24,
     "metadata": {},
     "output_type": "execute_result"
    },
    {
     "data": {
      "image/png": "[encoded data removed]",
      "text/plain": [
       "<Figure size 1152x720 with 7 Axes>"
      ]
     },
     "metadata": {
      "needs_background": "light"
     },
     "output_type": "display_data"
    }
   ],
   "source": [
    "#c\n",
    "S0 = np.array([i for i in range(15,26)])\n",
    "T = 0.5; X = 20; r = 0.04; sigma = 0.25\n",
    "d1 = (np.log(S0/X) + (r+(sigma**2)/2)*T)/(sigma*np.sqrt(T))\n",
    "d2 = d1 - sigma*np.sqrt(T)\n",
    "\n",
    "Delta = [None]*11; Gamma = [None]*11; Theta = [None]*11; Vega = [None]*11; \n",
    "Rho = [None]*11; ECp = [None]*11; ECn = [None]*11; EC = [None]*11;\n",
    "C1 = [None]*11; C2 = [None]*11\n",
    "for i in range(11):\n",
    "    C1[i] = Euro_Call(S0[i],T,X,r,sigma)\n",
    "    C2[i] = B_S(S0[i],T,X,r,sigma)\n",
    "    Delta[i] = (Euro_Call(S0[i]+0.1,T,X,r,sigma) - Euro_Call(S0[i],T,X,r,sigma))/0.1\n",
    "    ECp[i] = Euro_Call(S0[i]+1,T,X,r,sigma)\n",
    "    ECn[i] = Euro_Call(S0[i]-1,T,X,r,sigma)\n",
    "    Gamma[i] = (ECp[i] + ECn[i] - 2*np.array(C1[i]))/(1**2)\n",
    "    Theta[i] = (Euro_Call(S0[i],T,X,r,sigma)-Euro_Call(S0[i],T+0.01,X,r,sigma))/0.01\n",
    "    Vega[i] = (Euro_Call(S0[i],T,X,r,sigma+0.01)-Euro_Call(S0[i],T,X,r,sigma))/0.01\n",
    "    Rho[i] = (Euro_Call(S0[i],T,X,r+0.001,sigma)-Euro_Call(S0[i],T,X,r,sigma))/0.001\n",
    "plt.figure(1, figsize=(16, 10))\n",
    "plt.subplot(331)\n",
    "ax1 = plt.plot(Delta)\n",
    "plt.title(\"Delta\")\n",
    "plt.subplot(332)\n",
    "ax2 = plt.plot(Gamma)\n",
    "plt.title(\"Gamma\")\n",
    "plt.subplot(333)\n",
    "ax3 = plt.plot(Theta)\n",
    "plt.title(\"Theta\")\n",
    "plt.subplot(334)\n",
    "ax4 = plt.plot(Vega)\n",
    "plt.title(\"Vega\")\n",
    "plt.subplot(335)\n",
    "ax5 = plt.plot(Rho)\n",
    "plt.title(\"Rho\")\n",
    "plt.subplot(336)\n",
    "ax6 = plt.plot(C1)\n",
    "plt.title(\"Pricing Function\")\n",
    "plt.subplot(337)\n",
    "ax7 = plt.plot(C2)\n",
    "plt.title(\"Black-Scholes\")"
   ]
  },
  {
   "cell_type": "code",
   "execution_count": 29,
   "metadata": {
    "scrolled": true
   },
   "outputs": [
    {
     "name": "stdout",
     "output_type": "stream",
     "text": [
      "Prices of options with underlyling stocks from $15 to $25 computed by pricing function are:\n",
      "[0.0738 0.1796 0.3711 0.6693 1.0813 1.6037 2.2371 2.9596 3.7591 4.6215\n",
      " 5.53  ]\n"
     ]
    }
   ],
   "source": [
    "print(\"Prices of options with underlyling stocks from $15 to $25 computed by pricing function are:\")\n",
    "print(np.round(C1,4))"
   ]
  },
  {
   "cell_type": "code",
   "execution_count": 30,
   "metadata": {},
   "outputs": [
    {
     "name": "stdout",
     "output_type": "stream",
     "text": [
      "Prices of options with underlyling stocks from $15 to $25 computed by Black-Scholes are:\n",
      "[0.0858 0.1943 0.3828 0.6732 1.0787 1.6016 2.2345 2.963  3.7695 4.6362\n",
      " 5.5471]\n"
     ]
    }
   ],
   "source": [
    "print(\"Prices of options with underlyling stocks from $15 to $25 computed by Black-Scholes are:\")\n",
    "print(np.round(C2,4))"
   ]
  },
  {
   "cell_type": "code",
   "execution_count": 32,
   "metadata": {},
   "outputs": [
    {
     "name": "stdout",
     "output_type": "stream",
     "text": [
      "Deltas of options with underlyling stocks from $15 to $25 are:\n",
      "[0.0762 0.151  0.2487 0.3605 0.4706 0.5883 0.6856 0.7679 0.8361 0.8922\n",
      " 0.9304]\n"
     ]
    }
   ],
   "source": [
    "print(\"Deltas of options with underlyling stocks from $15 to $25 are:\")\n",
    "print(np.round(Delta,4))"
   ]
  },
  {
   "cell_type": "code",
   "execution_count": 33,
   "metadata": {},
   "outputs": [
    {
     "name": "stdout",
     "output_type": "stream",
     "text": [
      "Gamma of options with underlyling stocks from $15 to $25 are:\n",
      "[0.0581 0.0856 0.1068 0.1137 0.1105 0.1109 0.0893 0.0769 0.0629 0.0462\n",
      " 0.034 ]\n"
     ]
    }
   ],
   "source": [
    "print(\"Gamma of options with underlyling stocks from $15 to $25 are:\")\n",
    "print(np.round(Gamma,4))"
   ]
  },
  {
   "cell_type": "code",
   "execution_count": 34,
   "metadata": {},
   "outputs": [
    {
     "name": "stdout",
     "output_type": "stream",
     "text": [
      "Theta of options with underlyling stocks from $15 to $25 are:\n",
      "[-0.4    -0.7225 -1.0832 -1.3994 -1.6372 -1.7727 -1.7995 -1.7377 -1.619\n",
      " -1.445  -1.2856]\n"
     ]
    }
   ],
   "source": [
    "print(\"Theta of options with underlyling stocks from $15 to $25 are:\")\n",
    "print(np.round(Theta,4))"
   ]
  },
  {
   "cell_type": "code",
   "execution_count": 35,
   "metadata": {},
   "outputs": [
    {
     "name": "stdout",
     "output_type": "stream",
     "text": [
      "Vega of options with underlyling stocks from $15 to $25 are:\n",
      "[1.4969 2.6006 3.755  4.7215 5.3338 5.5103 5.3101 4.8077 4.0878 3.189\n",
      " 2.4262]\n"
     ]
    }
   ],
   "source": [
    "print(\"Vega of options with underlyling stocks from $15 to $25 are:\")\n",
    "print(np.round(Vega,4))"
   ]
  },
  {
   "cell_type": "code",
   "execution_count": 36,
   "metadata": {},
   "outputs": [
    {
     "name": "stdout",
     "output_type": "stream",
     "text": [
      "Rho of options with underlyling stocks from $15 to $25 are:\n",
      "[0.4998 1.0852 1.9036 2.8523 3.8806 5.0375 6.0316 6.9364 7.679  8.3736\n",
      " 8.8472]\n"
     ]
    }
   ],
   "source": [
    "print(\"Rho of options with underlyling stocks from $15 to $25 are:\")\n",
    "print(np.round(Rho,4))"
   ]
  },
  {
   "cell_type": "markdown",
   "metadata": {},
   "source": [
    "# Problem 4"
   ]
  },
  {
   "cell_type": "code",
   "execution_count": 41,
   "metadata": {},
   "outputs": [],
   "source": [
    "#4----------------------------------\n",
    "def f_corr2W(n,x,var,rho):\n",
    "    covM = np.array([[1,rho],[rho,1]])\n",
    "    L = np.linalg.cholesky(covM)\n",
    "    N1 = np.random.normal(0,1,n)\n",
    "    N2 = np.random.normal(0,1,n)\n",
    "    dWt1 = np.sqrt(var[0])*L[0,0]*N1\n",
    "    dWt2 = np.sqrt(var[1])*(L[1,0]*N1 + L[1,1]*N2)\n",
    "    r = [dWt1,dWt2]\n",
    "    return r\n",
    "\n",
    "def f_max(x):\n",
    "    if x > 0:\n",
    "        r = x\n",
    "    else:\n",
    "        r = 0\n",
    "    return r\n",
    "\n",
    "def f_C(n,x,T,V0,S0,K,rho,scheme = None):\n",
    "    dt = T/n\n",
    "    C = [None]*1000\n",
    "    var = [dt,dt]\n",
    "    for j in range(1000):\n",
    "        W = f_corr2W(n,x,var,rho)\n",
    "        Wt1 = W[0]\n",
    "        Wt2 = W[1]\n",
    "        v = [None]*(n+1)\n",
    "        v[0] = V0\n",
    "        s = [None]*(n+1)\n",
    "        s[0] = S0\n",
    "        if scheme == \"Reflection\":\n",
    "            for i in range(n):\n",
    "                s[i+1] = s[i] + r*s[i]*dt + np.sqrt(np.absolute(v[i]))*s[i]*Wt1[i]\n",
    "                v[i+1] = np.absolute(v[i]) \\\n",
    "                        + a*(b-np.absolute(v[i]))*dt \\\n",
    "                        + sigma*np.sqrt(np.absolute(v[i]))*Wt2[i]\n",
    "        elif scheme == \"Partial\":\n",
    "            for i in range(n):\n",
    "                s[i+1] = s[i] + r*s[i]*dt + np.sqrt(f_max(v[i]))*s[i]*Wt1[i]\n",
    "                v[i+1] = v[i] + a*(b-v[i])*dt \\\n",
    "                        + sigma*np.sqrt(f_max(v[i]))*Wt2[i]\n",
    "        elif scheme == \"Full\":\n",
    "            for i in range(n):\n",
    "                s[i+1] = s[i] + r*s[i]*dt + np.sqrt(f_max(v[i]))*s[i]*Wt1[i]\n",
    "                v[i+1] = v[i] + a*(b-f_max(v[i]))*dt \\\n",
    "                        + sigma*np.sqrt(f_max(v[i]))*Wt2[i]\n",
    "        else:\n",
    "            for i in range(n):\n",
    "                s[i+1] = s[i] + r*s[i]*dt + np.sqrt(v[i])*s[i]*Wt1[i]\n",
    "                v[i+1] = v[i] + a*(b-v[i])*dt \\\n",
    "                        + sigma*np.sqrt(v[i])*Wt2[i]\n",
    "                if v[i+1] < 0:\n",
    "                    print(\"Warning: Encounter negative Vt value!\")\n",
    "                    print(\"         Use other scheme!\")\n",
    "                    return np.nan\n",
    "        if (s[n] - K) > 0:\n",
    "            C[j] = (s[n] - K)*np.exp(-r*T)\n",
    "        else:\n",
    "            C[j] = 0\n",
    "    return C"
   ]
  },
  {
   "cell_type": "markdown",
   "metadata": {},
   "source": [
    "**Aboves are functions that can compute the price of an European Call Option with different methods (Reflection,Partial Truncation, Full Truncation)**"
   ]
  },
  {
   "cell_type": "code",
   "execution_count": 56,
   "metadata": {},
   "outputs": [
    {
     "name": "stdout",
     "output_type": "stream",
     "text": [
      "[2.584 2.635 2.762]\n"
     ]
    }
   ],
   "source": [
    "rho = -0.6; r = 0.03; S0 = 48; V0 = 0.05; sigma = 0.42\n",
    "a = 5.8; b = 0.0625; T = 0.5; K = 50\n",
    "n = 1000; x = 500\n",
    "C_ref = f_C(n,x,T,V0,S0,K,rho,scheme = \"Reflection\")\n",
    "C_part = f_C(n,x,T,V0,S0,K,rho,scheme = \"Partial\")\n",
    "C_full = f_C(n,x,T,V0,S0,K,rho,scheme = \"Full\")\n",
    "print(np.round([np.mean(C_ref),np.mean(C_part),np.mean(C_full)],3))"
   ]
  },
  {
   "cell_type": "markdown",
   "metadata": {},
   "source": [
    "Since I used different seeds to compute the prices each time, the prices generated by each method are slightly different. <br>\n",
    "Even though prices are different by using different methods, they are very similar compared to each other. This is because with T = 0.5, all dVt could be positive and therefore, each method will generate similar price for the option."
   ]
  },
  {
   "cell_type": "markdown",
   "metadata": {},
   "source": [
    "|Method          |Option Price|\n",
    "|--------------------|------------|\n",
    "|Reflection       |2.584     |\n",
    "|Partial Truncation  |2.635     |\n",
    "|Full Truncation    |2.762     |"
   ]
  },
  {
   "cell_type": "markdown",
   "metadata": {},
   "source": [
    "# Problem 5"
   ]
  },
  {
   "cell_type": "markdown",
   "metadata": {},
   "source": [
    "**Following is the Halton Sequence generation function:**"
   ]
  },
  {
   "cell_type": "code",
   "execution_count": 47,
   "metadata": {},
   "outputs": [],
   "source": [
    "def f_HaltonS(base,n):\n",
    "    seq = np.zeros(n)\n",
    "    bits = 1+math.ceil(np.log(n)/np.log(base))\n",
    "    bs = np.array([i+1 for i in range(bits)])\n",
    "    b = 1/(base**bs)\n",
    "    d = np.zeros(bits)\n",
    "    for i in range(n):\n",
    "        j = 0; ok = 0\n",
    "        while ok == 0:\n",
    "            d[j] = d[j]+1\n",
    "            if d[j] < base:\n",
    "                ok = 1\n",
    "            else:\n",
    "                d[j] = 0; j = j+1\n",
    "        seq[i] = np.dot(d,b)\n",
    "    return  seq"
   ]
  },
  {
   "cell_type": "markdown",
   "metadata": {},
   "source": [
    "**(a) generate 100 2-dimensional vectors of Uniform [0,1] $\\times$ [0,1]**"
   ]
  },
  {
   "cell_type": "code",
   "execution_count": 48,
   "metadata": {},
   "outputs": [],
   "source": [
    "#5--------------------------------\n",
    "#a\n",
    "X = f_unif(100,1)\n",
    "Y = f_unif(100,10)\n",
    "unif2d = [X,Y]"
   ]
  },
  {
   "cell_type": "markdown",
   "metadata": {},
   "source": [
    "**(b) generate 100 points of the 2-dimensional Halton sequences, using bases 2 and 7**"
   ]
  },
  {
   "cell_type": "code",
   "execution_count": 49,
   "metadata": {},
   "outputs": [],
   "source": [
    "x_h_2 = f_HaltonS(2,100)\n",
    "y_h_7 = f_HaltonS(7,100)\n",
    "halton27 = [x_h_2,y_h_7]"
   ]
  },
  {
   "cell_type": "markdown",
   "metadata": {},
   "source": [
    "**(c) generate 100 points of the 2-dimensional Halton sequences, using bases 2 and 4**"
   ]
  },
  {
   "cell_type": "code",
   "execution_count": 50,
   "metadata": {},
   "outputs": [],
   "source": [
    "y_h_4 = f_HaltonS(4,100)\n",
    "halton24 = [x_h_2,y_h_4]"
   ]
  },
  {
   "cell_type": "markdown",
   "metadata": {},
   "source": [
    "**(d) Draw all 3 sequences generated above:**"
   ]
  },
  {
   "cell_type": "code",
   "execution_count": 52,
   "metadata": {},
   "outputs": [
    {
     "data": {
      "text/plain": [
       "Text(0.5, 1.0, 'vectors of Halton bases 2 and 4')"
      ]
     },
     "execution_count": 52,
     "metadata": {},
     "output_type": "execute_result"
    },
    {
     "data": {
      "image/png": "[encoded data removed]",
      "text/plain": [
       "<Figure size 1152x720 with 3 Axes>"
      ]
     },
     "metadata": {
      "needs_background": "light"
     },
     "output_type": "display_data"
    }
   ],
   "source": [
    "plt.figure(2, figsize=(16, 10))\n",
    "plt.subplot(231)\n",
    "ax10 = plt.plot(unif2d[0],unif2d[1],\"ro\")\n",
    "plt.title(\"vectors of uniform\")\n",
    "plt.subplot(232)\n",
    "ax11 = plt.plot(halton27[0],halton27[1],\"ro\")\n",
    "plt.title(\"vectors of Halton bases 2 and 7\")\n",
    "plt.subplot(233)\n",
    "ax12 = plt.plot(halton24[0],halton24[1],\"ro\")\n",
    "plt.title(\"vectors of Halton bases 2 and 4\")"
   ]
  },
  {
   "cell_type": "markdown",
   "metadata": {},
   "source": [
    "**Comment:** <br>\n",
    "The first plot looks like there are some clusters of points, which makes the distribution of the points not very uniform. <br>\n",
    "The second plot looks much more better than the first plot and its distributions looks uniform. <br>\n",
    "The last plot looks terrible and points are barely uniformly distributed. The reason is that the Halton sequences generated are based on bases 2 and 4 where 4 is a non-prime number. This problem makes the points in the third plot cluster togehter since 2 and 4 are both multiples of 2. <br> <br>"
   ]
  },
  {
   "cell_type": "markdown",
   "metadata": {},
   "source": [
    "**(e) compute the following integral by using Halton sequences:**\n",
    "\n",
    "$$\\int_{0}^{1} \\int_{0}^{1} e^{-xy}(sin6\\pi x+cos^{\\frac{1}{3}}2\\pi y)dxdy$$"
   ]
  },
  {
   "cell_type": "code",
   "execution_count": 54,
   "metadata": {},
   "outputs": [
    {
     "name": "stdout",
     "output_type": "stream",
     "text": [
      "[-0.00488  0.02611  0.02616]\n"
     ]
    }
   ],
   "source": [
    "N = 10000\n",
    "x2 = f_HaltonS(2,N)\n",
    "y4 = f_HaltonS(4,N)\n",
    "y7 = f_HaltonS(7,N)\n",
    "x5 = f_HaltonS(5,N)\n",
    "integral24 = [None]*N\n",
    "integral27 = [None]*N\n",
    "integral57 = [None]*N\n",
    "for i in range(N):\n",
    "    integral24[i] = np.exp(-x2*y4)*(np.sin(6*np.pi*x2) \\\n",
    "                  + np.sign(np.cos(2*np.pi*y4)) \\\n",
    "                  * np.absolute(np.cos(2*np.pi*y4))**(1/3))\n",
    "    integral27[i] = np.exp(-x2*y7)*(np.sin(6*np.pi*x2) \\\n",
    "                  + np.sign(np.cos(2*np.pi*y7)) \\\n",
    "                  * np.absolute(np.cos(2*np.pi*y7))**(1/3))\n",
    "    integral57[i] = np.exp(-x5*y7)*(np.sin(6*np.pi*x5) \\\n",
    "                  + np.sign(np.cos(2*np.pi*y7)) \\\n",
    "                  * np.absolute(np.cos(2*np.pi*y7))**(1/3))\n",
    "I24 = np.mean(integral24)\n",
    "I27 = np.mean(integral27)\n",
    "I57 = np.mean(integral57)\n",
    "print(np.round([I24,I27,I57],5))"
   ]
  },
  {
   "cell_type": "markdown",
   "metadata": {},
   "source": [
    "|Base|Integral value|\n",
    "|----|-----|\n",
    "|(2,4)|-0.00488|\n",
    "|(2,7)|0.02611|\n",
    "|(5,7)|0.02616|"
   ]
  }
 ],
 "metadata": {
  "kernelspec": {
   "display_name": "Python 3",
   "language": "python",
   "name": "python3"
  },
  "language_info": {
   "codemirror_mode": {
    "name": "ipython",
    "version": 3
   },
   "file_extension": ".py",
   "mimetype": "text/x-python",
   "name": "python",
   "nbconvert_exporter": "python",
   "pygments_lexer": "ipython3",
   "version": "3.7.1"
  }
 },
 "nbformat": 4,
 "nbformat_minor": 2
}
