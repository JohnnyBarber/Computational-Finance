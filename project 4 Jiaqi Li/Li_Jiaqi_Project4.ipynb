{
 "cells": [
  {
   "cell_type": "markdown",
   "metadata": {},
   "source": [
    "**Followings are functions from previous project:**"
   ]
  },
  {
   "cell_type": "code",
   "execution_count": 1,
   "metadata": {},
   "outputs": [],
   "source": [
    "import numpy as np\n",
    "import math\n",
    "import matplotlib.pyplot as plt\n",
    "import scipy.stats as bs\n",
    "\n",
    "a = 7**5\n",
    "b = 0\n",
    "m = 2**31-1\n",
    "\n",
    "#This function generates uniform distribution\n",
    "def f_unif(n,x_0):\n",
    "    U = [None] * (n+1)\n",
    "    U[0] = x_0\n",
    "    for i in range(1,(n+1)):\n",
    "        U[i] = np.mod(a*U[i-1]+b,m)\n",
    "    del U[0]\n",
    "    U = [x/m for x in U]\n",
    "    return U\n",
    "\n",
    "#This function generates normal distribution\n",
    "def f_norm(n,U):\n",
    "    Z_1 = [None]*n\n",
    "    Z_2 = [None]*n\n",
    "    for i in range(n):\n",
    "        Z_1[i] = np.sqrt(-2*np.log(U[2*i]))*np.cos(2*math.pi*U[2*i+1])\n",
    "        Z_2[i] = np.sqrt(-2*np.log(U[2*i]))*np.sin(2*math.pi*U[2*i+1])\n",
    "        i = i + 1\n",
    "    return Z_1+Z_2\n",
    "\n",
    "#This function generates a brownian motion\n",
    "def f_w(T,Z):\n",
    "    W = [np.sqrt(T)*x for x in Z]\n",
    "    return W\n",
    "\n",
    "#this function generates any size of Halton Sequence with any base\n",
    "def f_HaltonS(base,n):\n",
    "    seq = np.zeros(n)\n",
    "    bits = 1+math.ceil(np.log(n)/np.log(base))\n",
    "    bs = np.array([i+1 for i in range(bits)])\n",
    "    b = 1/(base**bs)\n",
    "    d = np.zeros(bits)\n",
    "    for i in range(n):\n",
    "        j = 0; ok = 0\n",
    "        while ok == 0:\n",
    "            d[j] = d[j]+1\n",
    "            if d[j] < base:\n",
    "                ok = 1\n",
    "            else:\n",
    "                d[j] = 0; j = j+1\n",
    "        seq[i] = np.dot(d,b)\n",
    "    return  seq"
   ]
  },
  {
   "cell_type": "markdown",
   "metadata": {},
   "source": [
    "# Problem 1\n",
    "\n",
    "**The following function is the Binomial Pricing Model for European Call Option**"
   ]
  },
  {
   "cell_type": "code",
   "execution_count": 2,
   "metadata": {},
   "outputs": [],
   "source": [
    "rf = 0.05\n",
    "sigma = 0.24\n",
    "S = 32\n",
    "K = 30\n",
    "n = np.array([10, 20, 40, 80, 100, 200, 500])\n",
    "\n",
    "T = 0.5\n",
    "dt = T/n\n",
    "s = len(n)\n",
    "\n",
    "def f_Euro_Call(n,S,K,rf,dt,u,d,p_up,p_down):\n",
    "    R = np.exp(rf*dt)\n",
    "    Rinv = 1/R\n",
    "    if u == 1/d:\n",
    "        uu = u*u\n",
    "    else:\n",
    "        uu = u/d\n",
    "    prices = [0]*(n+1)\n",
    "    prices[0] = S*(d**n)\n",
    "    for i in range(1,n+1):\n",
    "        prices[i] = uu*prices[i-1]\n",
    "    call = [0]*(n+1)\n",
    "    for i in range(n+1):\n",
    "        call[i] = max(0, prices[i]-K)\n",
    "    step = n-1\n",
    "    while step >= 0:\n",
    "        for i in range(step+1):\n",
    "            call[i] = (p_up*call[i+1]+p_down*call[i])*Rinv\n",
    "        step = step - 1\n",
    "    return call[0]"
   ]
  },
  {
   "cell_type": "markdown",
   "metadata": {},
   "source": [
    "**(a)**"
   ]
  },
  {
   "cell_type": "code",
   "execution_count": 4,
   "metadata": {},
   "outputs": [],
   "source": [
    "g = 0.5*(np.exp(-rf*dt)+np.exp((rf+sigma**2)*dt))\n",
    "d = g - np.sqrt(g**2-1)\n",
    "u = 1/d\n",
    "p_up = (np.exp(rf*dt)-d)/(u-d)\n",
    "p_down = 1 - p_up\n",
    "\n",
    "callA = [0]*s\n",
    "for i in range(s):\n",
    "    callA[i] = f_Euro_Call(n[i],S,K,rf,dt[i],u[i],d[i],p_up[i],p_down[i])"
   ]
  },
  {
   "cell_type": "markdown",
   "metadata": {},
   "source": [
    "**(b)**"
   ]
  },
  {
   "cell_type": "code",
   "execution_count": 5,
   "metadata": {},
   "outputs": [],
   "source": [
    "p2 = 0.5\n",
    "d2 = np.exp(rf*dt)*(1-np.sqrt(np.exp(sigma**2*dt)-1))\n",
    "u2 = np.exp(rf*dt)*(1+np.sqrt(np.exp(sigma**2*dt)-1))\n",
    "\n",
    "callB = [0]*s\n",
    "for i in range(s):\n",
    "    callB[i] = f_Euro_Call(n[i],S,K,rf,dt[i],u2[i],d2[i],p2,p2)"
   ]
  },
  {
   "cell_type": "markdown",
   "metadata": {},
   "source": [
    "**(c)**"
   ]
  },
  {
   "cell_type": "code",
   "execution_count": 6,
   "metadata": {},
   "outputs": [],
   "source": [
    "p3 = 0.5\n",
    "u3 = np.exp((rf-(sigma**2)/2)*dt+sigma*np.sqrt(dt))\n",
    "d3 = np.exp((rf-(sigma**2)/2)*dt-sigma*np.sqrt(dt))\n",
    "\n",
    "callC = [0]*s\n",
    "for i in range(s):\n",
    "    callC[i] = f_Euro_Call(n[i],S,K,rf,dt[i],u3[i],d3[i],p3,p3)"
   ]
  },
  {
   "cell_type": "markdown",
   "metadata": {},
   "source": [
    "**(d)**"
   ]
  },
  {
   "cell_type": "code",
   "execution_count": 7,
   "metadata": {},
   "outputs": [],
   "source": [
    "p4_up = 0.5+0.5*(rf-0.5*(sigma**2))*np.sqrt(dt)/sigma\n",
    "p4_down = 1 - p4_up\n",
    "u4 = np.exp(sigma*np.sqrt(dt))\n",
    "d4 = np.exp(-sigma*np.sqrt(dt))\n",
    "\n",
    "callD = [0]*s\n",
    "for i in range(s):\n",
    "    callD[i] = f_Euro_Call(n[i],S,K,rf,dt[i],u4[i],d4[i],p4_up[i],p4_down[i])"
   ]
  },
  {
   "cell_type": "markdown",
   "metadata": {},
   "source": [
    "**plot**"
   ]
  },
  {
   "cell_type": "code",
   "execution_count": 8,
   "metadata": {},
   "outputs": [
    {
     "data": {
      "text/plain": [
       "Text(0.5, 1.0, 'd')"
      ]
     },
     "execution_count": 8,
     "metadata": {},
     "output_type": "execute_result"
    },
    {
     "data": {
      "image/png": "[encoded data removed]",
      "text/plain": [
       "<Figure size 720x576 with 4 Axes>"
      ]
     },
     "metadata": {
      "needs_background": "light"
     },
     "output_type": "display_data"
    }
   ],
   "source": [
    "plt.figure(1, figsize = (10,8))\n",
    "plt.subplot(221)\n",
    "ax1 = plt.plot(callA)\n",
    "plt.title(\"a\")\n",
    "plt.subplot(222)\n",
    "ax2 = plt.plot(callB)\n",
    "plt.title(\"b\")\n",
    "plt.subplot(223)\n",
    "ax3 = plt.plot(callC)\n",
    "plt.title(\"c\")\n",
    "plt.subplot(224)\n",
    "ax4 = plt.plot(callD)\n",
    "plt.title(\"d\")"
   ]
  },
  {
   "cell_type": "code",
   "execution_count": 38,
   "metadata": {},
   "outputs": [
    {
     "name": "stdout",
     "output_type": "stream",
     "text": [
      "part a method [3.77  3.726 3.726 3.727 3.722 3.724 3.723]\n",
      "part b method [3.758 3.703 3.733 3.718 3.724 3.722 3.722]\n",
      "part c method [3.754 3.701 3.732 3.717 3.724 3.722 3.722]\n",
      "part d method [3.764 3.723 3.725 3.726 3.721 3.724 3.723]\n"
     ]
    }
   ],
   "source": [
    "print(\"part a method\",np.round(np.array(callA),3))\n",
    "print(\"part b method\",np.round(np.array(callB),3))\n",
    "print(\"part c method\",np.round(np.array(callC),3))\n",
    "print(\"part d method\",np.round(np.array(callD),3))"
   ]
  },
  {
   "cell_type": "markdown",
   "metadata": {},
   "source": [
    "All of these 4 methods finally converge to about 3.72.\n",
    "<br>\n",
    "Comparing the convergence rates, a and d have similar rates while b and c have similar rates. In general, method in part c has the highest convergence rate."
   ]
  },
  {
   "cell_type": "markdown",
   "metadata": {},
   "source": [
    "# Problem 2\n",
    "\n",
    "**(a)**"
   ]
  },
  {
   "cell_type": "code",
   "execution_count": 14,
   "metadata": {},
   "outputs": [
    {
     "name": "stdout",
     "output_type": "stream",
     "text": [
      "option price = 72.29678157146034\n",
      "strike = 1260.0\n",
      "current price = 1145.989990234375\n",
      "volatility = 0.23465627965146882\n"
     ]
    },
    {
     "name": "stderr",
     "output_type": "stream",
     "text": [
      "D:\\anaconda_distribution\\Anaconda\\lib\\site-packages\\ipykernel_launcher.py:18: FutureWarning: Method .as_matrix will be removed in a future version. Use .values instead.\n",
      "D:\\anaconda_distribution\\Anaconda\\lib\\site-packages\\ipykernel_launcher.py:20: FutureWarning: Method .as_matrix will be removed in a future version. Use .values instead.\n"
     ]
    }
   ],
   "source": [
    "import pandas_datareader as web\n",
    "import datetime\n",
    "\n",
    "start = datetime.datetime(2014,2,4)\n",
    "end = datetime.datetime(2019,2,4)\n",
    "ticker = \"GOOG\"\n",
    "f = web.DataReader(ticker,\"yahoo\",start,end)\n",
    "\n",
    "import pandas\n",
    "rf2 = 0.02\n",
    "T2 = 1\n",
    "t = 500\n",
    "dt2 = T2/t\n",
    "\n",
    "price = f[['Close']]\n",
    "N = len(price)\n",
    "ret = f[['Close']]/ f[['Close']].shift(1) - 1.0\n",
    "ret = pandas.DataFrame.as_matrix(ret.iloc[1:len(ret)])\n",
    "sigma2 = np.std(ret)*np.sqrt(252)\n",
    "curP = pandas.DataFrame.as_matrix(price.iloc[N-1])[0]\n",
    "K2 = round(curP*1.1/10)*10\n",
    "\n",
    "g2 = 0.5*(np.exp(-rf2*dt2)+np.exp((rf2+sigma2**2)*dt2))\n",
    "d_2 = g2 - np.sqrt(g2**2-1)\n",
    "u_2 = 1/d_2\n",
    "p_up_2 = (np.exp(rf2*dt2)-d_2)/(u_2-d_2)\n",
    "p_down_2 = 1 - p_up_2\n",
    "callGOOG = f_Euro_Call(t,curP,K2,rf2,dt2,u_2,d_2,p_up_2,p_down_2)\n",
    "print(\"option price =\",callGOOG)\n",
    "print(\"strike =\",K2)\n",
    "print(\"current price =\",curP)\n",
    "print(\"volatility =\",sigma2)"
   ]
  },
  {
   "cell_type": "markdown",
   "metadata": {},
   "source": [
    "The actual price of a option with strike price = 1260 is $56.9.(based on data from yahho finance on 2/5/2019)\n",
    "<br>\n",
    "This implies that the actual market volatility of google is much more smaller than the estimated volatility based on the 60 month historical daily returns of google stock.\n",
    "<br>"
   ]
  },
  {
   "cell_type": "markdown",
   "metadata": {},
   "source": [
    "**(b)**"
   ]
  },
  {
   "cell_type": "code",
   "execution_count": 15,
   "metadata": {},
   "outputs": [
    {
     "name": "stdout",
     "output_type": "stream",
     "text": [
      "0.20005627965147263\n"
     ]
    }
   ],
   "source": [
    "test = sigma2\n",
    "i = 0\n",
    "while np.abs(round(callGOOG,3)-56.90) > 0.01:\n",
    "    if round(callGOOG,3) > 56.90:\n",
    "        test = test - 0.0001\n",
    "    else:\n",
    "        test = test + 0.0001\n",
    "    g2 = 0.5*(np.exp(-rf2*dt2)+np.exp((rf2+test**2)*dt2))\n",
    "    d_2 = g2 - np.sqrt(g2**2-1)\n",
    "    u_2 = 1/d_2\n",
    "    p_up_2 = (np.exp(rf2*dt2)-d_2)/(u_2-d_2)\n",
    "    p_down_2 = 1 - p_up_2\n",
    "    callGOOG = f_Euro_Call(t,curP,K2,rf2,dt2,u_2,d_2,p_up_2,p_down_2)\n",
    "    i = i+1\n",
    "#this will take some time to get the result.\n",
    "print(test)    "
   ]
  },
  {
   "cell_type": "markdown",
   "metadata": {},
   "source": [
    "The volatility should be about 20% to make my estimated price equal to the market price.\n",
    "<br>"
   ]
  },
  {
   "cell_type": "markdown",
   "metadata": {},
   "source": [
    "# Problem 3\n"
   ]
  },
  {
   "cell_type": "code",
   "execution_count": 40,
   "metadata": {},
   "outputs": [
    {
     "name": "stderr",
     "output_type": "stream",
     "text": [
      "D:\\anaconda_distribution\\Anaconda\\lib\\site-packages\\ipykernel_launcher.py:15: RuntimeWarning: invalid value encountered in double_scalars\n",
      "  from ipykernel import kernelapp as app\n"
     ]
    },
    {
     "data": {
      "text/plain": [
       "Text(0.5, 1.0, 'Rho')"
      ]
     },
     "execution_count": 40,
     "metadata": {},
     "output_type": "execute_result"
    },
    {
     "data": {
      "image/png": "[encoded data removed]",
      "text/plain": [
       "<Figure size 1152x720 with 6 Axes>"
      ]
     },
     "metadata": {
      "needs_background": "light"
     },
     "output_type": "display_data"
    }
   ],
   "source": [
    "S0 = 49\n",
    "K3 = 50\n",
    "rf3 = 0.03\n",
    "sigma3 = 0.2\n",
    "T3 = 0.3846\n",
    "mu = 0.14\n",
    "t3 = 500\n",
    "\n",
    "\n",
    "def F_Euro_Call(n,S,K,rf,T,sigma):\n",
    "    dt = T/n\n",
    "    g = 0.5*(np.exp(-rf*dt)+np.exp((rf+sigma**2)*dt))\n",
    "    d = g - np.sqrt(g**2-1)\n",
    "    u = 1/d\n",
    "    p_up = (np.exp(rf*dt)-d)/(u-d)\n",
    "    p_down = 1 - p_up\n",
    "    R = np.exp(rf*dt)\n",
    "    Rinv = 1/R\n",
    "    if u == 1/d:\n",
    "        uu = u*u\n",
    "    else:\n",
    "        uu = u/d\n",
    "    prices = [0]*(n+1)\n",
    "    prices[0] = S*(d**n)\n",
    "    for i in range(1,n+1):\n",
    "        prices[i] = uu*prices[i-1]\n",
    "    call = [0]*(n+1)\n",
    "    for i in range(n+1):\n",
    "        call[i] = max(0, prices[i]-K)\n",
    "    step = n-1\n",
    "    while step >= 0:\n",
    "        for i in range(step+1):\n",
    "            call[i] = (p_up*call[i+1]+p_down*call[i])*Rinv\n",
    "        step = step - 1\n",
    "    return call[0]\n",
    "\n",
    "Srange = np.array([i*2 for i in range(10,41)])\n",
    "N3 = len(Srange)\n",
    "Trange = np.array([i*0.01 for i in range(39)])\n",
    "\n",
    "Delta = [0]*N3; Gamma = [0]*N3; Theta = [0]*N3; Vega = [0]*N3; \n",
    "Rho = [0]*N3; ECp = [0]*N3; ECn = [0]*N3; EC = [0]*N3; \n",
    "C1 = [0]*N3; DeltaT = [0]*len(Trange); C2 = [0]*len(Trange)\n",
    "for i in range(N3):\n",
    "    C1[i] = F_Euro_Call(t3,Srange[i],K3,rf3,T3,sigma3)\n",
    "    Delta[i] = (F_Euro_Call(t3,Srange[i]+1,K3,rf3,T3,sigma3) - C1[i])/1\n",
    "    ECp[i] = F_Euro_Call(t3,Srange[i]+1,K3,rf3,T3,sigma3)\n",
    "    ECn[i] = F_Euro_Call(t3,Srange[i]-1,K3,rf3,T3,sigma3)\n",
    "    Gamma[i] = (ECp[i] + ECn[i] - 2*np.array(C1[i]))/(1**2)\n",
    "    Theta[i] = (C1[i] - F_Euro_Call(t3,Srange[i],K3,rf3,T3+0.1,sigma3))/0.1\n",
    "    Vega[i] = (F_Euro_Call(t3,Srange[i],K3,rf3,T3,sigma3+0.1) - C1[i])/0.1\n",
    "    Rho[i] = (F_Euro_Call(t3,Srange[i],K3,rf3+0.1,T3,sigma3) - C1[i])/0.1\n",
    "    \n",
    "for i in range(len(Trange)):\n",
    "    C2[i] = F_Euro_Call(t3,S0,K3,rf3,Trange[i],sigma3)\n",
    "    DeltaT[i] = (F_Euro_Call(t3,S0+1,K3,rf3,Trange[i],sigma3) - C2[i])/1\n",
    "\n",
    "plt.figure(2, figsize=(16, 10))\n",
    "plt.subplot(231)\n",
    "ax1 = plt.plot(Delta)\n",
    "plt.title(\"Delta\")\n",
    "plt.subplot(232)\n",
    "ax1 = plt.plot(DeltaT)\n",
    "plt.title(\"DeltaT\")\n",
    "plt.subplot(233)\n",
    "ax2 = plt.plot(Gamma)\n",
    "plt.title(\"Gamma\")\n",
    "plt.subplot(234)\n",
    "ax3 = plt.plot(Theta)\n",
    "plt.title(\"Theta\")\n",
    "plt.subplot(235)\n",
    "ax4 = plt.plot(Vega)\n",
    "plt.title(\"Vega\")\n",
    "plt.subplot(236)\n",
    "ax5 = plt.plot(Rho)\n",
    "plt.title(\"Rho\")"
   ]
  },
  {
   "cell_type": "markdown",
   "metadata": {},
   "source": [
    "# Problem 4"
   ]
  },
  {
   "cell_type": "code",
   "execution_count": 21,
   "metadata": {},
   "outputs": [
    {
     "data": {
      "text/plain": [
       "<matplotlib.legend.Legend at 0x2ae4f29fdd8>"
      ]
     },
     "execution_count": 21,
     "metadata": {},
     "output_type": "execute_result"
    },
    {
     "data": {
      "image/png": "[encoded data removed]",
      "text/plain": [
       "<Figure size 432x288 with 1 Axes>"
      ]
     },
     "metadata": {
      "needs_background": "light"
     },
     "output_type": "display_data"
    }
   ],
   "source": [
    "def F_Euro_Put(n,S,K,rf,T,sigma):\n",
    "    dt = T/n\n",
    "    g = 0.5*(np.exp(-rf*dt)+np.exp((rf+sigma**2)*dt))\n",
    "    d = g - np.sqrt(g**2-1)\n",
    "    u = 1/d\n",
    "    p_up = (np.exp(rf*dt)-d)/(u-d)\n",
    "    p_down = 1 - p_up\n",
    "    R = np.exp(rf*dt)\n",
    "    Rinv = 1/R\n",
    "    if u == 1/d:\n",
    "        uu = u*u\n",
    "    else:\n",
    "        uu = u/d\n",
    "    prices = [0]*(n+1)\n",
    "    prices[0] = S*(d**n)\n",
    "    for i in range(1,n+1):\n",
    "        prices[i] = uu*prices[i-1]\n",
    "    put = [0]*(n+1)\n",
    "    for i in range(n+1):\n",
    "        put[i] = max(0, K-prices[i])\n",
    "    step = n-1\n",
    "    while step >= 0:\n",
    "        for i in range(step+1):\n",
    "            put[i] = (p_up*put[i+1]+p_down*put[i])*Rinv\n",
    "        step = step - 1\n",
    "    return put[0]\n",
    "\n",
    "T4 = 1\n",
    "t4 = 500\n",
    "rf4 = 0.05\n",
    "sigma4 = 0.3\n",
    "K4 = 100\n",
    "S0_4 = [i*4 for i in range(20,31)]\n",
    "N4 = len(S0_4)\n",
    "\n",
    "Eput = [0]*N4\n",
    "for i in range(N4):\n",
    "    Eput[i] = F_Euro_Put(t4,S0_4[i],K4,rf4,T4,sigma4)\n",
    "\n",
    "n=t4\n",
    "S=S0_4[0]\n",
    "K=K4\n",
    "rf=rf4\n",
    "T=T4\n",
    "sigma=sigma4\n",
    "\n",
    "def F_Ameri_Put(n,S,K,rf,T,sigma):\n",
    "    dt = T/n\n",
    "    g = 0.5*(np.exp(-rf*dt)+np.exp((rf+sigma**2)*dt))\n",
    "    d = g - np.sqrt(g**2-1)\n",
    "    u = 1/d\n",
    "    p_up = (np.exp(rf*dt)-d)/(u-d)\n",
    "    p_down = 1 - p_up\n",
    "    R = np.exp(rf*dt)\n",
    "    Rinv = 1/R\n",
    "    uu = u*u\n",
    "    \n",
    "    prices = [0]*(n+1)\n",
    "    prices[0] = S*(d**n)\n",
    "    for i in range(1,n+1):\n",
    "        prices[i] = uu*prices[i-1]\n",
    "    put = [0]*(n+1)\n",
    "    for i in range(n+1):\n",
    "        put[i] = max(0, K-prices[i])\n",
    "    \n",
    "    step = n-1\n",
    "    while step >= 0:\n",
    "        prices_F = [0]*(n+1)\n",
    "        prices_F[0] = S*(d**step)\n",
    "        for i in range(1,step+1):\n",
    "            prices_F[i] = uu*prices_F[i-1]\n",
    "        put_F = [0]*(step+1)\n",
    "        for i in range(step+1):\n",
    "            put_F[i] = max(0, K-prices_F[i])\n",
    "        for i in range(step+1):\n",
    "            put[i] = max((p_up*put[i+1]+p_down*put[i])*Rinv, put_F[i])\n",
    "        step = step - 1\n",
    "    return put[0]\n",
    "\n",
    "Aput = [0]*N4\n",
    "for i in range(N4):\n",
    "    Aput[i] = F_Ameri_Put(t4,S0_4[i],K4,rf4,T4,sigma4)\n",
    "\n",
    "plt.figure(4)\n",
    "ax1, = plt.plot(Aput, label = \"American Put\")\n",
    "ax2, = plt.plot(Eput, label = \"European Put\")\n",
    "plt.legend(handles = [ax1,ax2])"
   ]
  },
  {
   "cell_type": "markdown",
   "metadata": {},
   "source": [
    "Based on the graph, we can tell that the American Put Option prices are always higher than the European Put Option Prices.\n",
    "<br>"
   ]
  },
  {
   "cell_type": "markdown",
   "metadata": {},
   "source": [
    "# Problem 5"
   ]
  },
  {
   "cell_type": "markdown",
   "metadata": {},
   "source": [
    "**(a)**"
   ]
  },
  {
   "cell_type": "code",
   "execution_count": 22,
   "metadata": {},
   "outputs": [],
   "source": [
    "rf5 = 0.05\n",
    "T5 = 0.5\n",
    "sigma5 = 0.24\n",
    "S0_5 = 32\n",
    "K5 = 30\n",
    "n5 = np.array([10, 15, 20, 40, 70, 80, 100, 200, 500])\n",
    "dt5 = T5/n5\n",
    "N5 = len(n5)\n",
    "\n",
    "d5 = np.exp(-sigma5*np.sqrt(3*dt5))\n",
    "u5 = 1/d5\n",
    "p_up5 = (rf5*dt5*(1-d5)+(rf5*dt5)**2+sigma5**2*dt5)/((u5-d5)*(u5-1))\n",
    "p_down5 = (rf5*dt5*(1-u5)+(rf5*dt5)**2+sigma5**2*dt5)/((u5-d5)*(1-d5))\n",
    "p_mid5 = 1 - p_up5 - p_down5\n",
    "\n",
    "def f_Euro_Call_Tri(n,S,K,rf,dt,u,d,p_up,p_mid,p_down):\n",
    "    R = np.exp(rf*dt)\n",
    "    Rinv = 1/R\n",
    "    \n",
    "    prices = [0]*(2*n+1)\n",
    "    prices[0] = S*(d**n)\n",
    "    for i in range(1,2*n+1):\n",
    "        prices[i] = u*prices[i-1]\n",
    "    \n",
    "    call = [0]*(2*n+1)\n",
    "    for i in range(2*n+1):\n",
    "        call[i] = max(0, prices[i]-K)\n",
    "    step = n-1\n",
    "    while step >= 0:\n",
    "        for i in range(2*n-1):\n",
    "            call[i] = (p_up*call[i+2]+p_mid*call[i+1]+p_down*call[i])*Rinv\n",
    "        step = step - 1\n",
    "    return call[0]\n",
    "\n",
    "Ecall1 = [0]*N5\n",
    "for i in range(N5):\n",
    "    Ecall1[i] = f_Euro_Call_Tri(n5[i],S0_5,K5,rf5,dt5[i],u5[i], \\\n",
    "                                d5[i],p_up5[i],p_mid5[i],p_down5[i])"
   ]
  },
  {
   "cell_type": "markdown",
   "metadata": {},
   "source": [
    "**(b)**"
   ]
  },
  {
   "cell_type": "code",
   "execution_count": 24,
   "metadata": {},
   "outputs": [],
   "source": [
    "dXu = sigma5*np.sqrt(3*dt5)\n",
    "dXd = -sigma5*np.sqrt(3*dt5)\n",
    "\n",
    "p_up52 =0.5*(((rf5-0.5*sigma5**2)**2*(dt5)**2+sigma5**2*dt5)/(dXu)**2+ \\\n",
    "             ((rf5-0.5*sigma5**2)*dt5)/dXu)\n",
    "p_down52 =0.5*(((rf5-0.5*sigma5**2)**2*(dt5)**2+sigma5**2*dt5)/(dXu)**2- \\\n",
    "               ((rf5-0.5*sigma5**2)*dt5)/dXu)\n",
    "p_mid52 = 1 - p_up52 - p_down52\n",
    "\n",
    "def f_Euro_Call_Tri2(n,S,K,rf,dt,u,d,p_up,p_mid,p_down):\n",
    "    R = np.exp(rf*dt)\n",
    "    Rinv = 1/R\n",
    "    \n",
    "    prices = [0]*(2*n+1)\n",
    "    prices[0] = np.exp(np.log(S)+n*d)\n",
    "    for i in range(1,2*n+1):\n",
    "        prices[i] = np.exp(np.log(prices[i-1]) + u)\n",
    "    \n",
    "    call = [0]*(2*n+1)\n",
    "    for i in range(2*n+1):\n",
    "        call[i] = max(0, prices[i]-K)\n",
    "    step = n-1\n",
    "    while step >= 0:\n",
    "        for i in range(2*n-1):\n",
    "            call[i] = (p_up*call[i+2]+p_mid*call[i+1]+p_down*call[i])*Rinv\n",
    "        step = step - 1\n",
    "    return call[0]\n",
    "\n",
    "Ecall2 = [0]*N5\n",
    "for i in range(N5):\n",
    "    Ecall2[i] = f_Euro_Call_Tri2(n5[i],S0_5,K5,rf5,dt5[i], \\\n",
    "                                 dXu[i],dXd[i],p_up52[i],p_mid52[i],p_down52[i])"
   ]
  },
  {
   "cell_type": "markdown",
   "metadata": {},
   "source": [
    "**Plot**"
   ]
  },
  {
   "cell_type": "code",
   "execution_count": 25,
   "metadata": {},
   "outputs": [
    {
     "data": {
      "text/plain": [
       "<matplotlib.legend.Legend at 0x2ae4f3142b0>"
      ]
     },
     "execution_count": 25,
     "metadata": {},
     "output_type": "execute_result"
    },
    {
     "data": {
      "image/png": "[encoded data removed]",
      "text/plain": [
       "<Figure size 432x288 with 1 Axes>"
      ]
     },
     "metadata": {
      "needs_background": "light"
     },
     "output_type": "display_data"
    }
   ],
   "source": [
    "plt.figure(5)\n",
    "ax1, = plt.plot(Ecall2, label = \"Log-stock price-process (Xt)\")\n",
    "ax2, = plt.plot(Ecall1, label = \"stock price-process (St)\")\n",
    "plt.legend(handles = [ax1,ax2])"
   ]
  },
  {
   "cell_type": "code",
   "execution_count": 39,
   "metadata": {},
   "outputs": [
    {
     "name": "stdout",
     "output_type": "stream",
     "text": [
      "stock price-process converges to 3.721867597520623\n",
      "Log-stock price-process converges to 3.721997935265941\n"
     ]
    }
   ],
   "source": [
    "print(\"stock price-process converges to\", Ecall1[len(Ecall1)-1])\n",
    "print(\"Log-stock price-process converges to\", Ecall2[len(Ecall2)-1])"
   ]
  },
  {
   "cell_type": "markdown",
   "metadata": {},
   "source": [
    "For both methods, European call option price finally converge to about $3.72."
   ]
  },
  {
   "cell_type": "markdown",
   "metadata": {},
   "source": [
    "# Problem 6"
   ]
  },
  {
   "cell_type": "code",
   "execution_count": 33,
   "metadata": {},
   "outputs": [],
   "source": [
    "def LDS_EuroCall(S0,K,T,r,sigma,N,b1,b2):\n",
    "    H1 = f_HaltonS(b1,N)\n",
    "    H2 = f_HaltonS(b2,N)\n",
    "\n",
    "    Z_1 = [None]*N\n",
    "    Z_2 = [None]*N\n",
    "    \n",
    "    #Here we used Box-Muller Method\n",
    "    for i in range(N):\n",
    "        Z_1[i] = np.sqrt(-2*np.log(H1[i]))*np.cos(2*math.pi*H2[i])\n",
    "        Z_2[i] = np.sqrt(-2*np.log(H1[i]))*np.sin(2*math.pi*H2[i])\n",
    "        i = i + 1\n",
    "    \n",
    "    W = np.array(f_w(T,Z_1))\n",
    "    C = np.exp(-r*T)*np.mean([max(0,S0*np.exp((r-0.5*sigma**2)*T+ \\\n",
    "                                              sigma*i)-K) for i in W])\n",
    "    return C"
   ]
  },
  {
   "cell_type": "markdown",
   "metadata": {},
   "source": [
    "Using argument values given from problem 1, we will test how this function works as following:"
   ]
  },
  {
   "cell_type": "code",
   "execution_count": 27,
   "metadata": {},
   "outputs": [
    {
     "name": "stdout",
     "output_type": "stream",
     "text": [
      "3.7168172671172104\n"
     ]
    }
   ],
   "source": [
    "b1 = 2\n",
    "b2 = 5\n",
    "T6 = 0.5\n",
    "K6 = 30\n",
    "S0_6 = 32\n",
    "sigma6 = 0.24\n",
    "rf6 = 0.05\n",
    "N6 = 1000\n",
    "\n",
    "C = LDS_EuroCall(S0_6,K6,T6,rf6,sigma6,N6,b1,b2)\n",
    "print(C)"
   ]
  },
  {
   "cell_type": "markdown",
   "metadata": {},
   "source": [
    "This function gives a European call option price approximately $3.72, which is consistent to the result estimated in problem 1."
   ]
  }
 ],
 "metadata": {
  "kernelspec": {
   "display_name": "Python 3",
   "language": "python",
   "name": "python3"
  },
  "language_info": {
   "codemirror_mode": {
    "name": "ipython",
    "version": 3
   },
   "file_extension": ".py",
   "mimetype": "text/x-python",
   "name": "python",
   "nbconvert_exporter": "python",
   "pygments_lexer": "ipython3",
   "version": "3.7.1"
  }
 },
 "nbformat": 4,
 "nbformat_minor": 2
}
