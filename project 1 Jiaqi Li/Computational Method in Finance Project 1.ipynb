{
 "cells": [
  {
   "cell_type": "markdown",
   "metadata": {},
   "source": [
    "1.\n",
    "(a)The following code generate 10,000 Uniform distributed random number:"
   ]
  },
  {
   "cell_type": "code",
   "execution_count": 4,
   "metadata": {},
   "outputs": [
    {
     "name": "stdout",
     "output_type": "stream",
     "text": [
      "mean:  0.5015954347987638\n",
      "std:  0.28936371860979276\n"
     ]
    },
    {
     "name": "stderr",
     "output_type": "stream",
     "text": [
      "D:\\anaconda_distribution\\Anaconda\\lib\\site-packages\\ipykernel_launcher.py:20: RuntimeWarning: overflow encountered in int_scalars\n"
     ]
    },
    {
     "data": {
      "image/png": "[encoded data removed]",
      "text/plain": [
       "<Figure size 432x288 with 1 Axes>"
      ]
     },
     "metadata": {
      "needs_background": "light"
     },
     "output_type": "display_data"
    }
   ],
   "source": [
    "import numpy as np\n",
    "import matplotlib.pyplot as plt\n",
    "import math\n",
    "import random\n",
    "import time\n",
    "\n",
    "#1--------------------------------\n",
    "#Set random number generators \n",
    "a = 7**5\n",
    "b = 0\n",
    "m = 2**31-1\n",
    "\n",
    "#Creat a list to store random numbers with U[0,1]\n",
    "unif = [None] * 10001\n",
    "unif[0] = 1\n",
    "\n",
    "#This loop is for generating random numbers with U[0,1]\n",
    "i = 1\n",
    "while i < 10001:\n",
    "    unif[i] = np.mod(a*unif[i-1]+b,m)\n",
    "    i = i+1\n",
    "unif = [x/m for x in unif]\n",
    "\n",
    "#Delete the first observation x_0 and keep x_1 to x_10000\n",
    "del unif[0]\n",
    "\n",
    "#Draw the histogram of the sample uniform distribution\n",
    "plt.figure()\n",
    "ax1 = plt.hist(unif, normed = True, bins = 30)\n",
    "plt.title(\"Uniform Distribution\")\n",
    "plt.ylabel(\"probability\")\n",
    "plt.xlabel(\"value\")\n",
    "\n",
    "print(\"mean: \", np.mean(unif))\n",
    "print(\"std: \", np.std(unif))"
   ]
  },
  {
   "cell_type": "markdown",
   "metadata": {},
   "source": [
    "(b)built in function results:"
   ]
  },
  {
   "cell_type": "code",
   "execution_count": 3,
   "metadata": {},
   "outputs": [
    {
     "name": "stdout",
     "output_type": "stream",
     "text": [
      "build in function mean:  0.5020738374619756\n",
      "build in function std:  0.28693499755277346\n"
     ]
    }
   ],
   "source": [
    "#Use built-in function to generate uniform distribution\n",
    "build = np.random.uniform(0,1,10000)\n",
    "print(\"build in function mean: \", np.mean(build))\n",
    "print(\"build in function std: \",np.std(build))\n"
   ]
  },
  {
   "cell_type": "markdown",
   "metadata": {},
   "source": [
    "(c) Comparing part(a) and part(b), we can tell that the simulation gets a very similar mean and standard deviation as the biult in function does"
   ]
  },
  {
   "cell_type": "markdown",
   "metadata": {},
   "source": [
    "2.\n",
    "(a)Generate 10,000 random numbers with following distribution"
   ]
  },
  {
   "cell_type": "markdown",
   "metadata": {},
   "source": [
    "\\begin{equation}\n",
    "  X = \\begin{cases}\n",
    "    -1 & \\text{with probability 0.30} \\\\\n",
    "    0 & \\text{with probability 0.35} \\\\\n",
    "    1 & \\text{with probability 0.20} \\\\\n",
    "    2 & \\text{with probability 0.15}\n",
    "  \\end{cases}\n",
    "\\end{equation}"
   ]
  },
  {
   "cell_type": "code",
   "execution_count": 5,
   "metadata": {},
   "outputs": [],
   "source": [
    "#2-----------------------------------\n",
    "#Creat a list to store random numbers from the discrete distribution\n",
    "dist = [None] * 10000\n",
    "\n",
    "#Set probabilities for different outcomes from the distribution\n",
    "p1 = 0.3; p2 = 0.35; p3 = 0.2; p4 = 0.15\n",
    "\n",
    "#This loop is for generating the discrete distribution\n",
    "i = 0\n",
    "while i < 10000:\n",
    "    if unif[i] <= p1:\n",
    "        dist[i] = -1\n",
    "    elif p1 < unif[i] <= p1+p2:\n",
    "        dist[i] = 0\n",
    "    elif p1+p2 < unif[i] <= p1+p2+p3:\n",
    "        dist[i] = 1\n",
    "    elif p1+p2+p3 < unif[i] <= p1+p2+p3+p4:\n",
    "        dist[i] = 2\n",
    "    i = i + 1"
   ]
  },
  {
   "cell_type": "markdown",
   "metadata": {},
   "source": [
    "(b)Draw the histogram and calculate mean and standard deviation:"
   ]
  },
  {
   "cell_type": "code",
   "execution_count": 6,
   "metadata": {},
   "outputs": [
    {
     "name": "stdout",
     "output_type": "stream",
     "text": [
      "mean:  0.2085\n",
      "std:  1.0309353762481916\n"
     ]
    },
    {
     "data": {
      "text/plain": [
       "Text(0.5, 0, 'value')"
      ]
     },
     "execution_count": 6,
     "metadata": {},
     "output_type": "execute_result"
    },
    {
     "data": {
      "image/png": "[encoded data removed]",
      "text/plain": [
       "<Figure size 432x288 with 1 Axes>"
      ]
     },
     "metadata": {
      "needs_background": "light"
     },
     "output_type": "display_data"
    }
   ],
   "source": [
    "print(\"mean: \", np.mean(dist))\n",
    "print(\"std: \", np.std(dist))\n",
    "\n",
    "#Draw the histogram\n",
    "plt.figure()\n",
    "ax2 = plt.hist(dist, normed = True)\n",
    "plt.title(\"Discrete Distribution\")\n",
    "plt.ylabel(\"probability\")\n",
    "plt.xlabel(\"value\")"
   ]
  },
  {
   "cell_type": "markdown",
   "metadata": {},
   "source": [
    "3.\n",
    "(a)Generate 1,000 random numbers with Binomail distribution with n = 44 and p = 0.64"
   ]
  },
  {
   "cell_type": "code",
   "execution_count": 7,
   "metadata": {},
   "outputs": [
    {
     "name": "stderr",
     "output_type": "stream",
     "text": [
      "D:\\anaconda_distribution\\Anaconda\\lib\\site-packages\\ipykernel_launcher.py:27: RuntimeWarning: overflow encountered in int_scalars\n"
     ]
    }
   ],
   "source": [
    "#3-----------------------------------\n",
    "#Set seed so that each time we can gerenate the same sequence \n",
    "#of random numbers for each loop that is used to generate\n",
    "#binomial random numbers\n",
    "#By setting such a seed, our result will be consistent and easy\n",
    "#to study with\n",
    "random.seed(9)\n",
    "\n",
    "#Creat a list to store random numbers from the bernoulli distribution\n",
    "ber = [None] * 44\n",
    "p = 0.64\n",
    "\n",
    "#Creat a list to store random numbers from the binomail distribution\n",
    "B = [None]*1000\n",
    "\n",
    "#This loop will generate 1000 binomially distributed random numbers\n",
    "x = 1\n",
    "while x < 1001:\n",
    "    u = [None] * 45\n",
    "    #generate random number for x_0 in each loop\n",
    "    u[0] = random.randint(1,100)\n",
    "    #generate a set of 44 uniformly distributed random numbers\n",
    "    #each set of these numbers will generate 1 random number\n",
    "    #with Binomial(44,0.64)\n",
    "    i = 1\n",
    "    while i < 45:\n",
    "        u[i] = np.mod(a*u[i-1]+b,m)\n",
    "        i = i+1\n",
    "    del u[0]\n",
    "    j = 0\n",
    "    while j < 44:\n",
    "        if u[j]/m <= p:\n",
    "            ber[j] = 1\n",
    "        else:\n",
    "            ber[j] = 0\n",
    "        j = j + 1\n",
    "    B[x-1] = sum(ber)\n",
    "    x = x + 1"
   ]
  },
  {
   "cell_type": "markdown",
   "metadata": {},
   "source": [
    "(b)Draw histogram"
   ]
  },
  {
   "cell_type": "code",
   "execution_count": 9,
   "metadata": {},
   "outputs": [
    {
     "data": {
      "text/plain": [
       "Text(0.5, 0, 'value')"
      ]
     },
     "execution_count": 9,
     "metadata": {},
     "output_type": "execute_result"
    },
    {
     "data": {
      "image/png": "[encoded data removed]",
      "text/plain": [
       "<Figure size 432x288 with 1 Axes>"
      ]
     },
     "metadata": {
      "needs_background": "light"
     },
     "output_type": "display_data"
    }
   ],
   "source": [
    "#Draw the histogram\n",
    "plt.figure()\n",
    "ax3 = plt.hist(B, normed = True)\n",
    "plt.title(\"Binomial Distribution\")\n",
    "plt.ylabel(\"probability\")\n",
    "plt.xlabel(\"value\")"
   ]
  },
  {
   "cell_type": "markdown",
   "metadata": {},
   "source": [
    "Compute P(X $\\geq$ 40)"
   ]
  },
  {
   "cell_type": "code",
   "execution_count": 10,
   "metadata": {},
   "outputs": [
    {
     "name": "stdout",
     "output_type": "stream",
     "text": [
      "Empirical probability = 0\n",
      "Theoretical Probability = 4.8236638455676785e-05 is approximately 0\n"
     ]
    }
   ],
   "source": [
    "#Compute P(X>=40)\n",
    "P = sum(1 for i in B if i >= 40)\n",
    "\n",
    "#Compute theoretical value of P(X>=40) to compare with the empirical result\n",
    "k = 40\n",
    "n = 44\n",
    "P_T = 0\n",
    "while k < 45:\n",
    "    P_true = math.factorial(n)/(math.factorial(k)*math.factorial(n-k))* \\\n",
    "             (p**k)*((1-p)**(n-k))\n",
    "    P_T = P_T + P_true\n",
    "    k = k + 1\n",
    "print(\"Empirical probability =\", P)\n",
    "print(\"Theoretical Probability =\", P_T,\"is approximately 0\")"
   ]
  },
  {
   "cell_type": "markdown",
   "metadata": {},
   "source": [
    "From above comparision, we can tell that P(X $\\geq$ 40)\n",
    "computed from sample and from theoretical formula are approximately the same "
   ]
  },
  {
   "cell_type": "markdown",
   "metadata": {},
   "source": [
    "4.\n",
    "(a)Generate 10,000 Exponentially distributed random numbers with $\\lambda$ = 1.5"
   ]
  },
  {
   "cell_type": "code",
   "execution_count": 12,
   "metadata": {},
   "outputs": [],
   "source": [
    "lam = 1.5\n",
    "\n",
    "#Use the uniform distributed random numbers created in question 1\n",
    "#to generate a exponential distribution\n",
    "U_4 = [1-x for x in unif]\n",
    "X_4 = -1/lam*np.log(U_4)"
   ]
  },
  {
   "cell_type": "markdown",
   "metadata": {},
   "source": [
    "(b)Compute P(X $\\geq$ 1) and P(X $\\geq$ 4)"
   ]
  },
  {
   "cell_type": "code",
   "execution_count": 14,
   "metadata": {},
   "outputs": [
    {
     "name": "stdout",
     "output_type": "stream",
     "text": [
      "P(X >= 1) = 0.2223\n",
      "P(X >= 4) = 0.002\n"
     ]
    }
   ],
   "source": [
    "#Compute P(X>=1) and P(X>=4)\n",
    "P_1 = sum(1 for i in X_4 if i >= 1)/10000\n",
    "P_4 = sum(1 for i in X_4 if i >= 4)/10000\n",
    "print(\"P(X >= 1) =\", P_1)\n",
    "print(\"P(X >= 4) =\", P_4)"
   ]
  },
  {
   "cell_type": "markdown",
   "metadata": {},
   "source": [
    "(c)Compute empirical mean and standard deviation"
   ]
  },
  {
   "cell_type": "code",
   "execution_count": 15,
   "metadata": {},
   "outputs": [
    {
     "name": "stdout",
     "output_type": "stream",
     "text": [
      "mean = 0.670837071558907 , std = 0.668062748295854\n"
     ]
    },
    {
     "data": {
      "text/plain": [
       "Text(0.5, 0, 'value')"
      ]
     },
     "execution_count": 15,
     "metadata": {},
     "output_type": "execute_result"
    },
    {
     "data": {
      "image/png": "[encoded data removed]",
      "text/plain": [
       "<Figure size 432x288 with 1 Axes>"
      ]
     },
     "metadata": {
      "needs_background": "light"
     },
     "output_type": "display_data"
    }
   ],
   "source": [
    "mu_4 = np.mean(X_4)\n",
    "sigma_4 = np.std(X_4)\n",
    "print(\"mean =\", mu_4, \", std =\", sigma_4)\n",
    "#Draw the histogram\n",
    "plt.figure()\n",
    "ax4 = plt.hist(X_4, normed = True, bins = 30)\n",
    "plt.title(\"Exponential Distribution\")\n",
    "plt.ylabel(\"probability\")\n",
    "plt.xlabel(\"value\")"
   ]
  },
  {
   "cell_type": "markdown",
   "metadata": {},
   "source": [
    "5.\n",
    "(a)Generate 5,000 Uniformly distributed random numbers"
   ]
  },
  {
   "cell_type": "code",
   "execution_count": 16,
   "metadata": {},
   "outputs": [
    {
     "name": "stderr",
     "output_type": "stream",
     "text": [
      "D:\\anaconda_distribution\\Anaconda\\lib\\site-packages\\ipykernel_launcher.py:9: RuntimeWarning: overflow encountered in int_scalars\n",
      "  if __name__ == '__main__':\n"
     ]
    }
   ],
   "source": [
    "#5-------------------------------------------------\n",
    "#Creat a function that can generate random number with U[0,1]\n",
    "#with sample size n and initial value x_0\n",
    "def f_unif(n,x_0):\n",
    "    U = [None] * (n+1)\n",
    "    U[0] = x_0\n",
    "    i = 1\n",
    "    while i < (n+1):\n",
    "        U[i] = np.mod(a*U[i-1]+b,m)\n",
    "        i = i+1\n",
    "    del U[0]\n",
    "    U = [x/m for x in U]\n",
    "    return U\n",
    "\n",
    "#Generate a uniform distribution with 5000 observations and x_0 = 1\n",
    "U_5 = f_unif(n = 5000, x_0 = 1)"
   ]
  },
  {
   "cell_type": "markdown",
   "metadata": {},
   "source": [
    "(b)Generate 5,000 Normally distributed numbers by Box-Muller Method"
   ]
  },
  {
   "cell_type": "code",
   "execution_count": 19,
   "metadata": {},
   "outputs": [],
   "source": [
    "#Creat 2 lists with length 2500 each\n",
    "#These 2 lists will be used to store normally distributed random numbers\n",
    "Z_1 = [None]*2500\n",
    "Z_2 = [None]*2500\n",
    "\n",
    "#Here we used Box-Muller Method\n",
    "for i in range(2500):\n",
    "    Z_1[i] = np.sqrt(-2*np.log(U_5[2*i]))*np.cos(2*math.pi*U_5[2*i+1])\n",
    "    Z_2[i] = np.sqrt(-2*np.log(U_5[2*i]))*np.sin(2*math.pi*U_5[2*i+1])\n",
    "    i = i + 1\n",
    "\n",
    "#Combine 2 lists to get a normal distribution with 5000 observations\n",
    "Z_BM = Z_1+Z_2"
   ]
  },
  {
   "cell_type": "markdown",
   "metadata": {},
   "source": [
    "(c)Compute empirical mean and standard deviation of above distribution, also generated histogram"
   ]
  },
  {
   "cell_type": "code",
   "execution_count": 20,
   "metadata": {},
   "outputs": [
    {
     "name": "stdout",
     "output_type": "stream",
     "text": [
      "Mox-Muller method: mean = 0.01586619963177707 , std = 0.9904473293620408\n"
     ]
    }
   ],
   "source": [
    "mu_BM = np.mean(Z_BM)\n",
    "std_BM = np.std(Z_BM)\n",
    "\n",
    "print(\"Mox-Muller method: mean =\", mu_BM, \", std =\", std_BM)"
   ]
  },
  {
   "cell_type": "code",
   "execution_count": 21,
   "metadata": {},
   "outputs": [
    {
     "data": {
      "text/plain": [
       "Text(0.5, 0, 'value')"
      ]
     },
     "execution_count": 21,
     "metadata": {},
     "output_type": "execute_result"
    },
    {
     "data": {
      "image/png": "[encoded data removed]",
      "text/plain": [
       "<Figure size 432x288 with 1 Axes>"
      ]
     },
     "metadata": {
      "needs_background": "light"
     },
     "output_type": "display_data"
    }
   ],
   "source": [
    "#Draw the histogram\n",
    "plt.figure()\n",
    "ax5 = plt.hist(Z_BM, normed = True, bins = 30)\n",
    "plt.title(\"Box-Muller Method\")\n",
    "plt.ylabel(\"probability\")\n",
    "plt.xlabel(\"value\")"
   ]
  },
  {
   "cell_type": "markdown",
   "metadata": {},
   "source": [
    "(d)Generate 5,000 Normally distributed numbers by Polar-Marsaglia Method"
   ]
  },
  {
   "cell_type": "code",
   "execution_count": 22,
   "metadata": {},
   "outputs": [],
   "source": [
    "#Here we used Polar-Marsaglia Method\n",
    "Z_1_1 = [None]*2500\n",
    "Z_2_2 = [None]*2500\n",
    "for i in range(2500):\n",
    "    V_1 = 2*U_5[2*i]-1\n",
    "    V_2 = 2*U_5[2*i+1]-1\n",
    "    W = V_1**2+V_2**2\n",
    "    #drop V_1 and V_2 if W <= 1\n",
    "    if W <= 1:\n",
    "        Z_1_1[i] = np.sqrt((-2*np.log(W))/W)*V_1\n",
    "        Z_2_2[i] = np.sqrt((-2*np.log(W))/W)*V_2\n",
    "Z_PM = Z_1_1 + Z_2_2\n",
    "Z_PM = [x for x in Z_PM if x != None]\n",
    "#Notice that this method will generate less than 5000 observations"
   ]
  },
  {
   "cell_type": "markdown",
   "metadata": {},
   "source": [
    "(e)Compute empirical mean and standard deviation of above distribution, also generated histogram"
   ]
  },
  {
   "cell_type": "code",
   "execution_count": 23,
   "metadata": {},
   "outputs": [
    {
     "name": "stdout",
     "output_type": "stream",
     "text": [
      "Polar-Marsaglia method: mean = 0.025241381616694033 , std = 1.0109944380282085\n"
     ]
    }
   ],
   "source": [
    "mu_PM = np.mean(Z_PM)\n",
    "std_PM = np.std(Z_PM)\n",
    "\n",
    "print(\"Polar-Marsaglia method: mean =\", mu_PM, \", std =\", std_PM)"
   ]
  },
  {
   "cell_type": "code",
   "execution_count": 24,
   "metadata": {},
   "outputs": [
    {
     "data": {
      "text/plain": [
       "Text(0.5, 0, 'value')"
      ]
     },
     "execution_count": 24,
     "metadata": {},
     "output_type": "execute_result"
    },
    {
     "data": {
      "image/png": "[encoded data removed]",
      "text/plain": [
       "<Figure size 432x288 with 1 Axes>"
      ]
     },
     "metadata": {
      "needs_background": "light"
     },
     "output_type": "display_data"
    }
   ],
   "source": [
    "#Draw the histogram\n",
    "plt.figure()\n",
    "ax6 = plt.hist(Z_PM, normed = True, bins = 30) \n",
    "plt.title(\"Polar-Marsaglia Method\")\n",
    "plt.ylabel(\"probability\")\n",
    "plt.xlabel(\"value\")"
   ]
  },
  {
   "cell_type": "markdown",
   "metadata": {},
   "source": [
    "(f)Compare execution time for using different methods\n",
    "\n",
    "  In order to compare execution time better, we will generate\n",
    "  2 normal distributions by using different methods with the \n",
    "  same sample size."
   ]
  },
  {
   "cell_type": "code",
   "execution_count": 73,
   "metadata": {},
   "outputs": [
    {
     "name": "stdout",
     "output_type": "stream",
     "text": [
      "--- 0.020933866500854492 seconds ---\n",
      "--- 0.018950223922729492 seconds ---\n",
      "Box-Muller takes 0.020933866500854492 seconds.\n",
      "Polar-Marsaglia takes 0.018950223922729492 seconds.\n"
     ]
    },
    {
     "name": "stderr",
     "output_type": "stream",
     "text": [
      "D:\\anaconda_distribution\\Anaconda\\lib\\site-packages\\ipykernel_launcher.py:9: RuntimeWarning: overflow encountered in int_scalars\n",
      "  if __name__ == '__main__':\n"
     ]
    }
   ],
   "source": [
    "#Now we want to compare time efficiency of the two methods\n",
    "\n",
    "#The following uniform distribution is used to generate\n",
    "#2 normal distributions each with 5000 observations\n",
    "#by using different methods\n",
    "U_5_test = f_unif(10000,2)\n",
    "\n",
    "Z_1_test = [None]*2500\n",
    "Z_2_test = [None]*2500\n",
    "\n",
    "#Box-Muller Method\n",
    "#Record starting time\n",
    "start_time1 = time.time()\n",
    "for i in range(2500):\n",
    "    Z_1_test[i] = np.sqrt(-2*np.log(U_5_test[2*i]))* \\\n",
    "                  np.cos(2*math.pi*U_5_test[2*i+1])\n",
    "    Z_2_test[i] = np.sqrt(-2*np.log(U_5_test[2*i]))* \\\n",
    "                  np.sin(2*math.pi*U_5_test[2*i+1])\n",
    "    i = i + 1\n",
    "\n",
    "#Record ending time and compute time used\n",
    "time_1 = (time.time() - start_time1)\n",
    "print(\"--- %s seconds ---\" % time_1)\n",
    "\n",
    "Z_1_1_test = [None]*2500\n",
    "Z_2_2_test = [None]*2500\n",
    "\n",
    "#Record starting time\n",
    "start_time2 = time.time()\n",
    "x = 0\n",
    "for i in range(10000):\n",
    "    V_1 = 2*U_5_test[2*i]-1\n",
    "    V_2 = 2*U_5_test[2*i+1]-1\n",
    "    W = V_1**2+V_2**2\n",
    "    if W <= 1:\n",
    "        Z_1_1_test[x] = np.sqrt((-2*np.log(W))/W)*V_1\n",
    "        Z_2_2_test[x] = np.sqrt((-2*np.log(W))/W)*V_2\n",
    "        x = x + 1\n",
    "    #when Z_1_1_test and Z_2_2_test both contain 2500 observations, exit loop\n",
    "    if x > 2499:\n",
    "        break\n",
    "\n",
    "#Record ending time and compute time used\n",
    "time_2 = (time.time() - start_time2)\n",
    "print(\"--- %s seconds ---\" % time_2)\n",
    "\n",
    "print(\"Box-Muller takes\", time_1, \"seconds.\")\n",
    "print(\"Polar-Marsaglia takes\", time_2, \"seconds.\")"
   ]
  },
  {
   "cell_type": "markdown",
   "metadata": {},
   "source": [
    "It looks like Box-Muller method takes longer time than Polar-Marsaglia method does.\n",
    "Thus, the Polar-Marsaglia method is more efficient.\n",
    "The reseaon is that the Box-Muller method uses trigonometirc functions to generate randon number\n",
    "while the Polar-Marsaglia method only need to do some simple calculation.\n",
    "Trigonometric functions are known to be time-consumming functions."
   ]
  }
 ],
 "metadata": {
  "kernelspec": {
   "display_name": "Python 3",
   "language": "python",
   "name": "python3"
  },
  "language_info": {
   "codemirror_mode": {
    "name": "ipython",
    "version": 3
   },
   "file_extension": ".py",
   "mimetype": "text/x-python",
   "name": "python",
   "nbconvert_exporter": "python",
   "pygments_lexer": "ipython3",
   "version": "3.7.1"
  }
 },
 "nbformat": 4,
 "nbformat_minor": 2
}
