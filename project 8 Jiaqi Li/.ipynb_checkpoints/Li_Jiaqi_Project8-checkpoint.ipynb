{
 "cells": [
  {
   "cell_type": "code",
   "execution_count": 1,
   "metadata": {},
   "outputs": [],
   "source": [
    "import numpy as np\n",
    "import matplotlib.pyplot as plt\n",
    "import scipy as sc\n",
    "import scipy.stats as si"
   ]
  },
  {
   "cell_type": "markdown",
   "metadata": {},
   "source": [
    "# Problem 1"
   ]
  },
  {
   "cell_type": "code",
   "execution_count": 3,
   "metadata": {},
   "outputs": [
    {
     "name": "stdout",
     "output_type": "stream",
     "text": [
      "975.3574437544914\n"
     ]
    }
   ],
   "source": [
    "#################################Problem 1#####################################\n",
    "r0 = 0.05\n",
    "sigma = 0.18\n",
    "cap = 0.82\n",
    "Er = 0.05\n",
    "paths = 1000\n",
    "\n",
    "#Vasicek mothod\n",
    "def f_Vasicek(paths,steps,r0,sigma,cap,dt,Er):\n",
    "    r = np.zeros((paths,steps))\n",
    "    r[:,0] = r0\n",
    "    for i in range(1,steps):\n",
    "        dWt = np.sqrt(dt)*np.random.normal(0,1,paths)\n",
    "        r[:,i] = cap*(Er-r[:,i-1])*dt+sigma*dWt + r[:,i-1]\n",
    "    return r\n",
    "            \n",
    "#----------------------------------a------------------------------------------#\n",
    "# simulate 1000 interest rate paths\n",
    "FV1 = 1000\n",
    "T = 0.5\n",
    "steps = int(366/2)+1\n",
    "dt = T/steps\n",
    "\n",
    "#Pricing for Pure Discount Bond\n",
    "def f_PDB(steps,paths,r0,sigma,K,Er,FV,T):\n",
    "    dt = T/steps\n",
    "    r = f_Vasicek(paths,steps,r0,sigma,cap,dt,Er)\n",
    "    \n",
    "    Euler = np.zeros(paths)\n",
    "    for i in range(paths):\n",
    "        Euler[i] = -sum(r[i,1:]*dt)\n",
    "    \n",
    "    EP = np.mean(FV*np.exp(Euler))\n",
    "    return EP\n",
    "\n",
    "PDB = f_PDB(steps,paths,r0,sigma,cap,Er,FV1,T)\n",
    "print(PDB)"
   ]
  },
  {
   "cell_type": "markdown",
   "metadata": {},
   "source": [
    "**The value of the pure discount bond is about $975**"
   ]
  },
  {
   "cell_type": "code",
   "execution_count": 10,
   "metadata": {},
   "outputs": [
    {
     "name": "stdout",
     "output_type": "stream",
     "text": [
      "1072.775307587957\n"
     ]
    }
   ],
   "source": [
    "#----------------------------------b------------------------------------------#\n",
    "FV1 = 1000\n",
    "steps1 = 366*4\n",
    "dt1 = T/steps\n",
    "C1 = np.array([30,30,30,30,30,30,30,1030])\n",
    "T1 = np.array([0.5,1,1.5,2,2.5,3,3.5,4])\n",
    "\n",
    "#Pricing for Coupon Payment Bond\n",
    "def f_CPB(steps,paths,r0,sigma,K,Er,FV,T,C):\n",
    "    dt = T[len(T)-1]/steps\n",
    "    r = f_Vasicek(paths,steps,r0,sigma,cap,dt,Er)\n",
    "    n = len(T)\n",
    "    T_steps = np.array([int(i*366) for i in T])\n",
    "    \n",
    "    Euler = np.zeros((paths,n))\n",
    "    for i in range(paths):\n",
    "        for j in range(n):\n",
    "            Euler[i,j] = C[j]*np.exp(-sum(r[i,:(T_steps[j]+1)]*dt))\n",
    "    \n",
    "    EP = 0\n",
    "    for i in range(paths):\n",
    "        EP += sum(Euler[i,:])\n",
    "    EP = EP/paths\n",
    "    return EP\n",
    "\n",
    "CPB = f_CPB(steps1,paths,r0,sigma,cap,Er,FV1,T1,C1)\n",
    "print(CPB)"
   ]
  },
  {
   "cell_type": "markdown",
   "metadata": {},
   "source": [
    "**The value of the coupon payment bond is about $1073**"
   ]
  },
  {
   "cell_type": "code",
   "execution_count": 14,
   "metadata": {},
   "outputs": [
    {
     "name": "stdout",
     "output_type": "stream",
     "text": [
      "11.837017887652385\n"
     ]
    }
   ],
   "source": [
    "#----------------------------------c------------------------------------------#\n",
    "K = 980\n",
    "Toption = 3/12\n",
    "\n",
    "#Pricing option with pure discount bond as underlying asset\n",
    "def f_EuroCall_PDB(FV,steps,paths,r0,sigma,cap,Er,T,Toption,K):\n",
    "    dt = T/steps\n",
    "    r = f_Vasicek(paths,int(Toption/dt),r0,sigma,cap,dt,Er)\n",
    "    rt = r[:,int(Toption/dt)-1]\n",
    "    B = 1/cap*(1-np.exp(-cap*(T-Toption)))\n",
    "    A = np.exp((Er-sigma**2/(2*cap**2))*(B-(T-Toption))-sigma**2/(4*cap)*B**2)\n",
    "    PDB = A*np.exp(-B*rt)*FV\n",
    "    discount = np.zeros(paths)\n",
    "    for i in range(paths):\n",
    "        discount[i] = -sum(dt*r[i,range(int(Toption/dt)-1)])\n",
    "    call = np.mean(np.exp(discount)*np.maximum(PDB-K,0))\n",
    "    return call\n",
    "\n",
    "Call_on_PDB = f_EuroCall_PDB(FV1,steps,paths,r0,sigma,cap,Er,T,Toption,K)\n",
    "print(Call_on_PDB)"
   ]
  },
  {
   "cell_type": "markdown",
   "metadata": {},
   "source": [
    "**The value of the option is about $11.74**"
   ]
  },
  {
   "cell_type": "code",
   "execution_count": 26,
   "metadata": {},
   "outputs": [
    {
     "name": "stdout",
     "output_type": "stream",
     "text": [
      "116.87664022645829\n"
     ]
    }
   ],
   "source": [
    "#----------------------------------d------------------------------------------#\n",
    "K = 980\n",
    "Toption = 3/12\n",
    "\n",
    "#Pricing option with coupon payment bond as underlying asset\n",
    "def f_EuroCall_CPB(FV,steps,paths,r0,sigma,cap,Er,T,Toption,K):\n",
    "    dt = 1/366\n",
    "    r = f_Vasicek(paths,steps,r0,sigma,cap,dt,Er)\n",
    "    rt = r[:,int(Toption/dt)-1]\n",
    "    B = 1/cap*(1-np.exp(-cap*(T-Toption)))\n",
    "    A = np.exp((Er-sigma**2/(2*cap**2))*(B-(T-Toption))-sigma**2/(4*cap)*B**2)\n",
    "    \n",
    "    r_star = 0.05\n",
    "    for i in range(1000):\n",
    "        if sum(A*np.exp(-B*r_star)*FV) - K > 0:\n",
    "            r_star = r_star + 0.0001\n",
    "        if sum(A*np.exp(-B*r_star)*FV) - K < 0:\n",
    "            r_star = r_star - 0.0001\n",
    "    r_star = np.round(r_star,4)\n",
    "    \n",
    "    Ki = A*np.exp(-B*r_star)*FV\n",
    "    \n",
    "    CPB = np.zeros(paths)\n",
    "    for i in range(paths):\n",
    "        for j in range(len(T)):\n",
    "            CPB[i] += np.maximum(A[j]* \\\n",
    "                      np.exp(-B[j]*r[:,int(Toption/dt)-1][i])*FV[j] - Ki[j],0)\n",
    "        \n",
    "    discount = np.zeros(paths)\n",
    "    for i in range(paths):\n",
    "        discount[i] = -sum(dt*r[i,range(int(Toption/dt)-1)])\n",
    "            \n",
    "    call = np.mean(np.exp(discount)*CPB)\n",
    "    return call\n",
    "\n",
    "FV_C = np.array([30,30,30,30,30,30,30,1030])\n",
    "T_C = np.arange(0.5,4.5,0.5)\n",
    "Call_on_PCB = f_EuroCall_CPB(FV_C,steps,paths,r0,sigma,cap,Er,T_C,Toption,K)\n",
    "print(Call_on_PCB)"
   ]
  },
  {
   "cell_type": "markdown",
   "metadata": {},
   "source": [
    "**The value of the option is about $116.9**"
   ]
  },
  {
   "cell_type": "markdown",
   "metadata": {},
   "source": [
    "# Problem 2"
   ]
  },
  {
   "cell_type": "markdown",
   "metadata": {},
   "source": [
    "**First construct function for simulating interest rates by using CIR method**"
   ]
  },
  {
   "cell_type": "code",
   "execution_count": 33,
   "metadata": {},
   "outputs": [],
   "source": [
    "#################################Problem 2#####################################\n",
    "r02 = 0.05\n",
    "sigma2 = 0.18\n",
    "cap2 = 0.92\n",
    "Er2 = 0.055\n",
    "steps2 = 366\n",
    "paths2 = 1000\n",
    "\n",
    "def f_CIR(paths,steps,r0,sigma,cap,dt,Er):\n",
    "    r = np.zeros((paths,steps+1))\n",
    "    r[:,0] = r0\n",
    "    for i in range(steps):\n",
    "        dWt = np.sqrt(dt)*np.random.normal(0,1,paths)\n",
    "        r[:,i+1] = np.maximum(cap*(Er-r[:,i])*dt+sigma*np.sqrt(r[:,i])*dWt \\\n",
    "                              + r[:,i],0)\n",
    "    return r"
   ]
  },
  {
   "cell_type": "code",
   "execution_count": 34,
   "metadata": {},
   "outputs": [
    {
     "name": "stdout",
     "output_type": "stream",
     "text": [
      "1.1373878664753918\n"
     ]
    }
   ],
   "source": [
    "#----------------------------------a------------------------------------------#\n",
    "# simulate 1000 interest rate paths\n",
    "FV2 = 1000\n",
    "T2 = 1\n",
    "K2 = 980\n",
    "Toption2 = 0.5\n",
    "\n",
    "def f_EuroCall_PDB_CIR(FV,steps,paths,r0,sigma,cap,Er,T,Toption,K):\n",
    "    dt = 1/366\n",
    "    r_path = f_CIR(paths,int(Toption/dt),r0,sigma,cap,dt,Er)\n",
    "    r = r_path[:,int(Toption/dt)-1]\n",
    "    PDB = np.zeros(paths)\n",
    "    for i in range(paths):\n",
    "        r_T = f_CIR(paths,steps-int(Toption/dt),r[i],sigma,cap,dt,Er)\n",
    "        Euler = np.zeros(paths)\n",
    "        for j in range(paths):\n",
    "            Euler[j] = -sum(r_T[j,1:]*dt)\n",
    "        PDB[i] = np.mean(FV*np.exp(Euler))\n",
    "    discount = np.zeros(paths)\n",
    "    for i in range(paths):\n",
    "        discount[i] = -sum(dt*r_path[i,1:])\n",
    "    call = np.mean(np.exp(discount)*np.maximum(PDB-K,0))\n",
    "    return call\n",
    "\n",
    "Call_on_PDB_CIR = f_EuroCall_PDB_CIR(FV2,steps2,paths2,r02, \\\n",
    "                                     sigma2,cap2,Er2,T2, \\\n",
    "                                     Toption2,K2)\n",
    "print(Call_on_PDB_CIR)"
   ]
  },
  {
   "cell_type": "markdown",
   "metadata": {},
   "source": [
    "**The value of the option computed by Monte Carlo simulation is $1.14.**"
   ]
  },
  {
   "cell_type": "code",
   "execution_count": 37,
   "metadata": {},
   "outputs": [
    {
     "name": "stdout",
     "output_type": "stream",
     "text": [
      "1.1234212323333281\n"
     ]
    }
   ],
   "source": [
    "#----------------------------------b------------------------------------------#\n",
    "def f_EuroCall_PDB_CIR_expicit(FV,steps,paths,r0,sigma,cap,Er,T,Toption,K):\n",
    "    h1 = np.sqrt(cap**2+2*sigma**2)\n",
    "    h2 = (cap+h1)/2\n",
    "    h3 = 2*cap*Er/sigma**2\n",
    "    B_T = (np.exp(h1*(Toption))-1)/(h2*(np.exp(h1*(Toption))-1)+h1)\n",
    "    A_T = ((h1*np.exp(h2*(Toption)))/(h2*(np.exp(h1*(Toption))-1)+h1))**h3\n",
    "    B_S = (np.exp(h1*(T))-1)/(h2*(np.exp(h1*(T))-1)+h1)\n",
    "    A_S = ((h1*np.exp(h2*(T)))/(h2*(np.exp(h1*(T))-1)+h1))**h3\n",
    "    B_TS = (np.exp(h1*(T-Toption))-1)/(h2*(np.exp(h1*(T-Toption))-1)+h1)\n",
    "    A_TS = ((h1*np.exp(h2*(T-Toption)))/(h2*(np.exp(h1*(T-Toption))-1)+h1))**h3\n",
    "    \n",
    "    PDB_T = A_T*np.exp(-B_T*r0)\n",
    "    PDB_S = A_S*np.exp(-B_S*r0)\n",
    "    \n",
    "    theta = np.sqrt(cap**2+2*sigma**2)\n",
    "    phi = 2*theta/(sigma**2*(np.exp(theta*Toption)-1))\n",
    "    yucha = (cap+theta)/sigma**2\n",
    "    r_star = np.log(A_TS/(K/FV))/B_TS\n",
    "    \n",
    "    x1 = 2*r_star*(phi+yucha+B_TS)\n",
    "    p1 = 4*cap*Er/(sigma**2)\n",
    "    q1 = (2*phi**2*r0*np.exp(theta*Toption))/(phi+yucha+B_TS)\n",
    "    x2 = 2*r_star*(phi+yucha)\n",
    "    p2 = 4*cap*Er/(sigma**2)\n",
    "    q2 = (2*phi**2*r0*np.exp(theta*Toption))/(phi+yucha)\n",
    "    \n",
    "    call = FV*PDB_S*si.ncx2.cdf(x1,p1,q1)-K*PDB_T*si.ncx2.cdf(x2,p2,q2)\n",
    "    \n",
    "    return np.mean(call)\n",
    "\n",
    "Call_on_PDB_CIR_explicit = f_EuroCall_PDB_CIR_expicit(FV2, steps2,paths2, \\\n",
    "                                                      r02,sigma2,cap2,Er2, \\\n",
    "                                                      T2,Toption2,K2)\n",
    "print(Call_on_PDB_CIR_explicit)"
   ]
  },
  {
   "cell_type": "markdown",
   "metadata": {},
   "source": [
    "**The value of the option computed by Explicit formula is $1.12.**"
   ]
  },
  {
   "cell_type": "markdown",
   "metadata": {},
   "source": [
    "<br>"
   ]
  },
  {
   "cell_type": "markdown",
   "metadata": {},
   "source": [
    "**Compare with the result generated by Monte Carlo Simulatoin, the value of the option generated by Explicit formula is slightly smaller.**"
   ]
  },
  {
   "cell_type": "markdown",
   "metadata": {},
   "source": [
    "# Problem 3"
   ]
  },
  {
   "cell_type": "code",
   "execution_count": 38,
   "metadata": {},
   "outputs": [
    {
     "name": "stdout",
     "output_type": "stream",
     "text": [
      "13.608389168896446\n"
     ]
    }
   ],
   "source": [
    "#################################Problem 3#####################################\n",
    "x0 = 0\n",
    "y0 = 0\n",
    "phi = 0.03\n",
    "r0 = 0.03\n",
    "a = 0.1\n",
    "b = 0.3\n",
    "sigma = 0.03\n",
    "ita = 0.08\n",
    "rho = 0.7\n",
    "S = 1\n",
    "T = 0.5\n",
    "paths = 1000\n",
    "FV = 1000\n",
    "K = 985\n",
    "\n",
    "#Generate correlated brownian motions\n",
    "def f_corr2W(n,var,rho):\n",
    "    covM = np.array([[1,rho],[rho,1]])\n",
    "    L = np.linalg.cholesky(covM)\n",
    "    N1 = np.random.normal(0,1,n)\n",
    "    N2 = np.random.normal(0,1,n)\n",
    "    dWt1 = np.sqrt(var[0])*L[0,0]*N1\n",
    "    dWt2 = np.sqrt(var[1])*(L[1,0]*N1 + L[1,1]*N2)\n",
    "    r = [dWt1,dWt2]\n",
    "    return r\n",
    "\n",
    "#Construct function for simulating interest rates by using G2++ method\n",
    "def f_Gpp(steps,paths,x0,y0,r0,a,b,sigma,ita,phi,dt):\n",
    "    var = [dt,dt]\n",
    "    x = np.zeros((paths,steps+1))\n",
    "    y = np.zeros((paths,steps+1))\n",
    "    r = np.zeros((paths,steps+1))\n",
    "    x[:,0] = x0\n",
    "    y[:,0] = y0\n",
    "    for i in range(1,steps+1):\n",
    "        dWt = f_corr2W(paths,var,rho)\n",
    "        x[:,i] = x[:,i-1]-a*x[:,i-1]*dt+sigma*dWt[0]\n",
    "        y[:,i] = y[:,i-1]-b*y[:,i-1]*dt+ita*dWt[1]\n",
    "    r = np.maximum(x+y+phi,0)\n",
    "    return r,x[:,steps],y[:,steps]\n",
    "\n",
    "def f_EuroP_PDB_Gpp(FV,paths,x0,y0,r0,a,b,sigma,ita,phi,T,S,K):\n",
    "    dt = 1/366\n",
    "    steps = int(S/dt)\n",
    "    r_path,x,y = f_Gpp(int(T/dt),paths,x0,y0,r0,a,b,sigma,ita,phi,dt)\n",
    "    r = r_path[:,int(T/dt)-1]\n",
    "    PDB = np.zeros(paths)\n",
    "    for i in range(paths):\n",
    "        r_T = f_Gpp(steps-int(T/dt),paths,x[i],y[i],r[i],a,b, \\\n",
    "                    sigma,ita,phi,dt)[0]\n",
    "        Euler = np.zeros(paths)\n",
    "        for j in range(paths):\n",
    "            Euler[j] = -sum(r_T[j,:]*dt)\n",
    "        PDB[i] = np.mean(FV*np.exp(Euler))\n",
    "    discount = np.zeros(paths)\n",
    "    for i in range(paths):\n",
    "        discount[i] = -sum(dt*r_path[i,:])\n",
    "    put = np.mean(np.exp(discount)*np.maximum(K-PDB,0))\n",
    "    return put\n",
    "\n",
    "Put_on_PDB_Gpp = f_EuroP_PDB_Gpp(FV,paths,x0,y0,r0,a,b,sigma,ita,phi,T,S,K)\n",
    "print(Put_on_PDB_Gpp)"
   ]
  },
  {
   "cell_type": "markdown",
   "metadata": {},
   "source": [
    "**The value of the European Put option computed by Monte Carlo Simulation is about $13.6**"
   ]
  }
 ],
 "metadata": {
  "kernelspec": {
   "display_name": "Python 3",
   "language": "python",
   "name": "python3"
  },
  "language_info": {
   "codemirror_mode": {
    "name": "ipython",
    "version": 3
   },
   "file_extension": ".py",
   "mimetype": "text/x-python",
   "name": "python",
   "nbconvert_exporter": "python",
   "pygments_lexer": "ipython3",
   "version": "3.7.1"
  }
 },
 "nbformat": 4,
 "nbformat_minor": 2
}
