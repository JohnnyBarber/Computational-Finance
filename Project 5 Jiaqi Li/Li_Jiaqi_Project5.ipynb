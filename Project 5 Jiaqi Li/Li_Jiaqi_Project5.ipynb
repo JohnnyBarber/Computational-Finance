{
 "cells": [
  {
   "cell_type": "markdown",
   "metadata": {},
   "source": [
    "# Problem 1"
   ]
  },
  {
   "cell_type": "markdown",
   "metadata": {},
   "source": [
    "The followings are the funcntions for computing option prices:"
   ]
  },
  {
   "cell_type": "code",
   "execution_count": 2,
   "metadata": {},
   "outputs": [],
   "source": [
    "import numpy as np\n",
    "import time\n",
    "import matplotlib.pyplot as plt\n",
    "\n",
    "#Stock Price\n",
    "def StockPrices(S0, r, sd, T, paths, steps):\n",
    "    dt = T/steps\n",
    "    # Generate stochastic process and its antithetic paths\n",
    "    Z = np.random.normal(0, 1, paths//2 * (steps)).reshape(paths//2,(steps))\n",
    "    Z_inv = -Z\n",
    "    dWt = np.sqrt(dt) * Z\n",
    "    dWt_inv = np.sqrt(dt) * Z_inv\n",
    "    # bind the normal and antithetic Wt\n",
    "    dWt = np.concatenate((dWt, dWt_inv), axis=0)\n",
    "    # define the initial value of St\n",
    "    St = np.zeros((paths, steps + 1))\n",
    "    St[:, 0] = S0\n",
    "    for i in range (steps):\n",
    "        St[:, i+1] = St[:, i]*np.exp((r - 1/2*(sd**2))*dt + sd*dWt[:, i])\n",
    "    return St[:,1:]\n",
    "\n",
    "# transform observations by different method for regression analysis\n",
    "def f_reg(x,k,method):\n",
    "    x = np.array(x)\n",
    "    n = len(x)\n",
    "    if method == \"Laguerre\":\n",
    "        if k == 1:\n",
    "            R1 = np.exp(-x/2)\n",
    "            return R1\n",
    "        elif k == 2:\n",
    "            R1 = np.exp(-x/2)\n",
    "            R2 = np.exp(-x/2)*(1-x)\n",
    "            return np.array([R1,R2]).reshape(2,n)\n",
    "        elif k == 3:\n",
    "            R1 = np.exp(-x/2)\n",
    "            R2 = np.exp(-x/2)*(1-x)\n",
    "            R3 = np.exp(-x/2)*(1-2*x+x**2/2)\n",
    "            return np.array([R1,R2,R3]).reshape(3,n)\n",
    "        elif k == 4:\n",
    "            R1 = np.exp(-x/2)\n",
    "            R2 = np.exp(-x/2)*(1-x)\n",
    "            R3 = np.exp(-x/2)*(1-2*x+x**2/2)\n",
    "            R4 = np.exp(-x/2)*(1-3*x+3*x**2/2-x**3/6)\n",
    "            return np.array([R1,R2,R3,R4]).reshape(4,n)\n",
    "    if method == \"Hermite\":\n",
    "        if k == 1:\n",
    "            R1 = [1]*n\n",
    "            return R1\n",
    "        elif k == 2:\n",
    "            R1 = [1]*n\n",
    "            R2 = 2*x\n",
    "            return np.array([R1,R2]).reshape(2,n)\n",
    "        elif k == 3:\n",
    "            R1 = [1]*n\n",
    "            R2 = 2*x\n",
    "            R3 = 4*x**2-2\n",
    "            return np.array([R1,R2,R3]).reshape(3,n)\n",
    "        elif k == 4:\n",
    "            R1 = [1]*n\n",
    "            R2 = 2*x\n",
    "            R3 = 4*x**2-2\n",
    "            R4 = 8*x**3-12*x\n",
    "            return np.array([R1,R2,R3,R4]).reshape(4,n)\n",
    "    if method == \"Monomials\":\n",
    "        if k == 1:\n",
    "            R1 = [1]*n\n",
    "            return R1\n",
    "        elif k == 2:\n",
    "            R1 = [1]*n\n",
    "            R2 = x\n",
    "            return np.array([R1,R2]).reshape(2,n)\n",
    "        elif k == 3:\n",
    "            R1 = [1]*n\n",
    "            R2 = x\n",
    "            R3 = x**2\n",
    "            return np.array([R1,R2,R3]).reshape(3,n)\n",
    "        elif k == 4:\n",
    "            R1 = [1]*n\n",
    "            R2 = x\n",
    "            R3 = x**2\n",
    "            R4 = x**3\n",
    "            return np.array([R1,R2,R3,R4]).reshape(4,n)\n",
    "\n",
    "# LSMC process\n",
    "def f_APLS(S0, r, sd, T, paths, steps, K, k, methods):\n",
    "    dt = T/steps\n",
    "    St = StockPrices(S0, r, sd, T, paths, steps)\n",
    "    # initialize payoffs matrix\n",
    "    payoffs = np.zeros((paths, steps))\n",
    "    payoffs[:,steps - 1] = np.maximum(K - St[:,steps - 1], 0)\n",
    "    # initialize stopping time matrix\n",
    "    index = np.zeros((paths, steps))\n",
    "    index[:,steps-1] = np.where(payoffs[:,steps - 1]> 0, 1, 0)\n",
    "    discI = np.array(index[:,steps-1])\n",
    "    Ot = np.array(np.maximum(K - St[:,steps-1],0))\n",
    "    # initialize continuation value matrix\n",
    "    for j in reversed(range(steps - 1)):\n",
    "        payoffs[:,j] = np.maximum(K - St[:, j],0)\n",
    "        # Find in the money paths\n",
    "        In = np.where(Ot*np.exp(-r*dt*discI) > 0)[0]\n",
    "        #  Use x which are in the money\n",
    "        X = f_reg(St[In, j], k, methods)         \n",
    "        Y = np.array(Ot*np.exp(-r*dt*discI))[In]\n",
    "        # Find Least Square Beta\n",
    "        A = np.dot(X, X.T)\n",
    "        b = np.dot(X, Y)\n",
    "        Beta = np.dot(np.linalg.inv(A), b)\n",
    "        # find full x  \n",
    "        x = f_reg(St[:, j], k, methods) \n",
    "        # find continue value\n",
    "        expected = np.dot(x.T, Beta)\n",
    "        # update decision rule\n",
    "        index[:, j] = np.where(np.array(payoffs[:,j]) - np.array(expected) > 0, 1, 0)\n",
    "        for l in range(paths):\n",
    "            if index[l,j] == 1:\n",
    "                discI[l] = 1\n",
    "                Ot[l] = K - St[l,j]\n",
    "            elif index[l,j] == 0:\n",
    "                discI[l] += 1\n",
    "        payoffs[:,j] = np.maximum(np.array(payoffs[:,j]),np.maximum(np.array(expected),0))\n",
    "    # Find the first occurence of 1, indicating the earlist exercise date\n",
    "    first_exercise = np.argmax(index, axis = 1) \n",
    "    index = np.zeros(shape = (paths, steps))\n",
    "    index[np.arange(paths), first_exercise] = 1\n",
    "    option = 0\n",
    "    temp = index*payoffs\n",
    "    for q in range(steps):\n",
    "        option += np.mean(temp[:,q])*np.exp(-r*dt*(q+1))\n",
    "    return option"
   ]
  },
  {
   "cell_type": "markdown",
   "metadata": {},
   "source": [
    "**(a)**"
   ]
  },
  {
   "cell_type": "code",
   "execution_count": 5,
   "metadata": {},
   "outputs": [],
   "source": [
    "#parameters-------------------------------------------------------\n",
    "N = 100000\n",
    "K = 40\n",
    "h = 100\n",
    "r = 0.06\n",
    "sigma = 0.2\n",
    "S01 = [36,40,44]\n",
    "T1 = [0.5,1,2]\n",
    "k1 = [2,3,4]\n",
    "\n",
    "#a----------------------------------------------------------------\n",
    "method = \"Laguerre\"\n",
    "payoffa = np.zeros((3,9))\n",
    "payoffa[0,0] = f_APLS(S01[0],r,sigma,T1[0],N,h,K,k1[0],method)\n",
    "payoffa[0,1] = f_APLS(S01[0],r,sigma,T1[0],N,h,K,k1[1],method)\n",
    "payoffa[0,2] = f_APLS(S01[0],r,sigma,T1[0],N,h,K,k1[2],method)\n",
    "payoffa[0,3] = f_APLS(S01[0],r,sigma,T1[1],N,h,K,k1[0],method)\n",
    "payoffa[0,4] = f_APLS(S01[0],r,sigma,T1[1],N,h,K,k1[1],method)\n",
    "payoffa[0,5] = f_APLS(S01[0],r,sigma,T1[1],N,h,K,k1[2],method)\n",
    "payoffa[0,6] = f_APLS(S01[0],r,sigma,T1[2],N,h,K,k1[0],method)\n",
    "payoffa[0,7] = f_APLS(S01[0],r,sigma,T1[2],N,h,K,k1[1],method)\n",
    "payoffa[0,8] = f_APLS(S01[0],r,sigma,T1[2],N,h,K,k1[2],method)\n",
    "payoffa[1,0] = f_APLS(S01[1],r,sigma,T1[0],N,h,K,k1[0],method)\n",
    "payoffa[1,1] = f_APLS(S01[1],r,sigma,T1[0],N,h,K,k1[1],method)\n",
    "payoffa[1,2] = f_APLS(S01[1],r,sigma,T1[0],N,h,K,k1[2],method)\n",
    "payoffa[1,3] = f_APLS(S01[1],r,sigma,T1[1],N,h,K,k1[0],method)\n",
    "payoffa[1,4] = f_APLS(S01[1],r,sigma,T1[1],N,h,K,k1[1],method)\n",
    "payoffa[1,5] = f_APLS(S01[1],r,sigma,T1[1],N,h,K,k1[2],method)\n",
    "payoffa[1,6] = f_APLS(S01[1],r,sigma,T1[2],N,h,K,k1[0],method)\n",
    "payoffa[1,7] = f_APLS(S01[1],r,sigma,T1[2],N,h,K,k1[1],method)\n",
    "payoffa[1,8] = f_APLS(S01[1],r,sigma,T1[2],N,h,K,k1[2],method)\n",
    "payoffa[2,0] = f_APLS(S01[2],r,sigma,T1[0],N,h,K,k1[0],method)\n",
    "payoffa[2,1] = f_APLS(S01[2],r,sigma,T1[0],N,h,K,k1[1],method)\n",
    "payoffa[2,2] = f_APLS(S01[2],r,sigma,T1[0],N,h,K,k1[2],method)\n",
    "payoffa[2,3] = f_APLS(S01[2],r,sigma,T1[1],N,h,K,k1[0],method)\n",
    "payoffa[2,4] = f_APLS(S01[2],r,sigma,T1[1],N,h,K,k1[1],method)\n",
    "payoffa[2,5] = f_APLS(S01[2],r,sigma,T1[1],N,h,K,k1[2],method)\n",
    "payoffa[2,6] = f_APLS(S01[2],r,sigma,T1[2],N,h,K,k1[0],method)\n",
    "payoffa[2,7] = f_APLS(S01[2],r,sigma,T1[2],N,h,K,k1[1],method)\n",
    "payoffa[2,8] = f_APLS(S01[2],r,sigma,T1[2],N,h,K,k1[2],method)"
   ]
  },
  {
   "cell_type": "code",
   "execution_count": 10,
   "metadata": {},
   "outputs": [
    {
     "name": "stdout",
     "output_type": "stream",
     "text": [
      "[[3.98984683 4.30434664 4.9985786  3.98661513 4.23667902 4.83082988\n",
      "  3.96153952 4.23086954 4.71839743]\n",
      " [1.96955464 2.99310625 3.82229646 1.87156779 2.73579001 3.66376282\n",
      "  1.90578616 2.46097305 3.24169838]\n",
      " [1.66357342 2.54707725 2.90616366 1.25788503 2.09192763 3.31652232\n",
      "  1.20093864 1.89875351 2.67496592]]\n"
     ]
    }
   ],
   "source": [
    "print(payoffa)"
   ]
  },
  {
   "cell_type": "markdown",
   "metadata": {},
   "source": [
    "For k = 2:\n",
    "\n",
    "|T|$S_0$ = 36|$S_0$ = 40|$S_0$ = 44|\n",
    "|-|----------|----------|----------|\n",
    "|0.5|3.98984683|1.96955464|1.66357342|\n",
    "|1|3.98661513|1.87156779 |1.25788503|\n",
    "|2|3.96153952|1.90578616|1.20093864|\n",
    "\n",
    "For k = 3:\n",
    "\n",
    "|T|$S_0$ = 36|$S_0$ = 40|$S_0$ = 44|\n",
    "|-|----------|----------|----------|\n",
    "|0.5|4.30434664|2.99310625|2.54707725|\n",
    "|1|4.23667902|2.73579001|2.09192763|\n",
    "|2|4.23086954|2.46097305|1.89875351|\n",
    "\n",
    "For k = 3:\n",
    "\n",
    "|T|$S_0$ = 36|$S_0$ = 40|$S_0$ = 44|\n",
    "|-|----------|----------|----------|\n",
    "|0.5|4.9985786 |3.82229646|2.90616366|\n",
    "|1|4.83082988|3.66376282|3.31652232|\n",
    "|2|4.71839743|3.24169838|2.67496592|"
   ]
  },
  {
   "cell_type": "code",
   "execution_count": 6,
   "metadata": {},
   "outputs": [],
   "source": [
    "#b----------------------------------------------------------------\n",
    "method = \"Hermite\"\n",
    "payoffb = np.zeros((3,9))\n",
    "payoffb[0,0] = f_APLS(S01[0],r,sigma,T1[0],N,h,K,k1[0],method)\n",
    "payoffb[0,1] = f_APLS(S01[0],r,sigma,T1[0],N,h,K,k1[1],method)\n",
    "payoffb[0,2] = f_APLS(S01[0],r,sigma,T1[0],N,h,K,k1[2],method)\n",
    "payoffb[0,3] = f_APLS(S01[0],r,sigma,T1[1],N,h,K,k1[0],method)\n",
    "payoffb[0,4] = f_APLS(S01[0],r,sigma,T1[1],N,h,K,k1[1],method)\n",
    "payoffb[0,5] = f_APLS(S01[0],r,sigma,T1[1],N,h,K,k1[2],method)\n",
    "payoffb[0,6] = f_APLS(S01[0],r,sigma,T1[2],N,h,K,k1[0],method)\n",
    "payoffb[0,7] = f_APLS(S01[0],r,sigma,T1[2],N,h,K,k1[1],method)\n",
    "payoffb[0,8] = f_APLS(S01[0],r,sigma,T1[2],N,h,K,k1[2],method)\n",
    "payoffb[1,0] = f_APLS(S01[1],r,sigma,T1[0],N,h,K,k1[0],method)\n",
    "payoffb[1,1] = f_APLS(S01[1],r,sigma,T1[0],N,h,K,k1[1],method)\n",
    "payoffb[1,2] = f_APLS(S01[1],r,sigma,T1[0],N,h,K,k1[2],method)\n",
    "payoffb[1,3] = f_APLS(S01[1],r,sigma,T1[1],N,h,K,k1[0],method)\n",
    "payoffb[1,4] = f_APLS(S01[1],r,sigma,T1[1],N,h,K,k1[1],method)\n",
    "payoffb[1,5] = f_APLS(S01[1],r,sigma,T1[1],N,h,K,k1[2],method)\n",
    "payoffb[1,6] = f_APLS(S01[1],r,sigma,T1[2],N,h,K,k1[0],method)\n",
    "payoffb[1,7] = f_APLS(S01[1],r,sigma,T1[2],N,h,K,k1[1],method)\n",
    "payoffb[1,8] = f_APLS(S01[1],r,sigma,T1[2],N,h,K,k1[2],method)\n",
    "payoffb[2,0] = f_APLS(S01[2],r,sigma,T1[0],N,h,K,k1[0],method)\n",
    "payoffb[2,1] = f_APLS(S01[2],r,sigma,T1[0],N,h,K,k1[1],method)\n",
    "payoffb[2,2] = f_APLS(S01[2],r,sigma,T1[0],N,h,K,k1[2],method)\n",
    "payoffb[2,3] = f_APLS(S01[2],r,sigma,T1[1],N,h,K,k1[0],method)\n",
    "payoffb[2,4] = f_APLS(S01[2],r,sigma,T1[1],N,h,K,k1[1],method)\n",
    "payoffb[2,5] = f_APLS(S01[2],r,sigma,T1[1],N,h,K,k1[2],method)\n",
    "payoffb[2,6] = f_APLS(S01[2],r,sigma,T1[2],N,h,K,k1[0],method)\n",
    "payoffb[2,7] = f_APLS(S01[2],r,sigma,T1[2],N,h,K,k1[1],method)\n",
    "payoffb[2,8] = f_APLS(S01[2],r,sigma,T1[2],N,h,K,k1[2],method)"
   ]
  },
  {
   "cell_type": "code",
   "execution_count": 13,
   "metadata": {},
   "outputs": [
    {
     "name": "stdout",
     "output_type": "stream",
     "text": [
      "[[3.980762   4.10075766 4.15766773 4.10732123 4.29638188 4.43558009\n",
      "  4.24705543 4.48631844 5.13107888]\n",
      " [1.72094838 1.81807641 1.99834709 2.1557835  2.31625856 2.81996506\n",
      "  2.56926664 2.78082952 4.13395728]\n",
      " [0.60708462 0.66285321 1.41209611 1.04518904 1.14928606 2.40493268\n",
      "  1.54096439 1.69541551 3.59346935]]\n"
     ]
    }
   ],
   "source": [
    "print(payoffb)"
   ]
  },
  {
   "cell_type": "markdown",
   "metadata": {},
   "source": [
    "For k = 2:\n",
    "\n",
    "|T|$S_0$ = 36|$S_0$ = 40|$S_0$ = 44|\n",
    "|-|----------|----------|----------|\n",
    "|0.5|3.980762|1.72094838|0.60708462|\n",
    "|1|4.10732123|2.1557835 |1.04518904|\n",
    "|2|4.24705543|2.56926664|1.54096439|\n",
    "\n",
    "For k = 3:\n",
    "\n",
    "|T|$S_0$ = 36|$S_0$ = 40|$S_0$ = 44|\n",
    "|-|----------|----------|----------|\n",
    "|0.5|4.10075766|1.81807641|0.66285321|\n",
    "|1|4.29638188|2.31625856|1.14928606|\n",
    "|2|4.48631844|2.78082952|1.69541551|\n",
    "\n",
    "For k = 3:\n",
    "\n",
    "|T|$S_0$ = 36|$S_0$ = 40|$S_0$ = 44|\n",
    "|-|----------|----------|----------|\n",
    "|0.5|4.15766773|1.99834709|1.41209611|\n",
    "|1|4.43558009|2.81996506|2.40493268|\n",
    "|2|5.13107888|4.13395728|3.59346935|"
   ]
  },
  {
   "cell_type": "code",
   "execution_count": 7,
   "metadata": {},
   "outputs": [],
   "source": [
    "#c----------------------------------------------------------------\n",
    "method = \"Monomials\"\n",
    "payoffc = np.zeros((3,9))\n",
    "payoffc[0,0] = f_APLS(S01[0],r,sigma,T1[0],N,h,K,k1[0],method)\n",
    "payoffc[0,1] = f_APLS(S01[0],r,sigma,T1[0],N,h,K,k1[1],method)\n",
    "payoffc[0,2] = f_APLS(S01[0],r,sigma,T1[0],N,h,K,k1[2],method)\n",
    "payoffc[0,3] = f_APLS(S01[0],r,sigma,T1[1],N,h,K,k1[0],method)\n",
    "payoffc[0,4] = f_APLS(S01[0],r,sigma,T1[1],N,h,K,k1[1],method)\n",
    "payoffc[0,5] = f_APLS(S01[0],r,sigma,T1[1],N,h,K,k1[2],method)\n",
    "payoffc[0,6] = f_APLS(S01[0],r,sigma,T1[2],N,h,K,k1[0],method)\n",
    "payoffc[0,7] = f_APLS(S01[0],r,sigma,T1[2],N,h,K,k1[1],method)\n",
    "payoffc[0,8] = f_APLS(S01[0],r,sigma,T1[2],N,h,K,k1[2],method)\n",
    "payoffc[1,0] = f_APLS(S01[1],r,sigma,T1[0],N,h,K,k1[0],method)\n",
    "payoffc[1,1] = f_APLS(S01[1],r,sigma,T1[0],N,h,K,k1[1],method)\n",
    "payoffc[1,2] = f_APLS(S01[1],r,sigma,T1[0],N,h,K,k1[2],method)\n",
    "payoffc[1,3] = f_APLS(S01[1],r,sigma,T1[1],N,h,K,k1[0],method)\n",
    "payoffc[1,4] = f_APLS(S01[1],r,sigma,T1[1],N,h,K,k1[1],method)\n",
    "payoffc[1,5] = f_APLS(S01[1],r,sigma,T1[1],N,h,K,k1[2],method)\n",
    "payoffc[1,6] = f_APLS(S01[1],r,sigma,T1[2],N,h,K,k1[0],method)\n",
    "payoffc[1,7] = f_APLS(S01[1],r,sigma,T1[2],N,h,K,k1[1],method)\n",
    "payoffc[1,8] = f_APLS(S01[1],r,sigma,T1[2],N,h,K,k1[2],method)\n",
    "payoffc[2,0] = f_APLS(S01[2],r,sigma,T1[0],N,h,K,k1[0],method)\n",
    "payoffc[2,1] = f_APLS(S01[2],r,sigma,T1[0],N,h,K,k1[1],method)\n",
    "payoffc[2,2] = f_APLS(S01[2],r,sigma,T1[0],N,h,K,k1[2],method)\n",
    "payoffc[2,3] = f_APLS(S01[2],r,sigma,T1[1],N,h,K,k1[0],method)\n",
    "payoffc[2,4] = f_APLS(S01[2],r,sigma,T1[1],N,h,K,k1[1],method)\n",
    "payoffc[2,5] = f_APLS(S01[2],r,sigma,T1[1],N,h,K,k1[2],method)\n",
    "payoffc[2,6] = f_APLS(S01[2],r,sigma,T1[2],N,h,K,k1[0],method)\n",
    "payoffc[2,7] = f_APLS(S01[2],r,sigma,T1[2],N,h,K,k1[1],method)\n",
    "payoffc[2,8] = f_APLS(S01[2],r,sigma,T1[2],N,h,K,k1[2],method)"
   ]
  },
  {
   "cell_type": "code",
   "execution_count": 12,
   "metadata": {},
   "outputs": [
    {
     "name": "stdout",
     "output_type": "stream",
     "text": [
      "[[3.96578168 4.09240584 4.15935206 4.12399713 4.28892259 4.44138998\n",
      "  4.23741356 4.49377137 5.18067749]\n",
      " [1.71752772 1.81176717 2.00787536 2.15425966 2.31539083 2.79966248\n",
      "  2.59333676 2.78306822 4.11608838]\n",
      " [0.60564376 0.66071687 1.46076053 1.05258392 1.15187396 2.22237022\n",
      "  1.53129959 1.69719182 3.517246  ]]\n"
     ]
    }
   ],
   "source": [
    "print(payoffc)"
   ]
  },
  {
   "cell_type": "markdown",
   "metadata": {},
   "source": [
    "For k = 2:\n",
    "\n",
    "|T|$S_0$ = 36|$S_0$ = 40|$S_0$ = 44|\n",
    "|-|----------|----------|----------|\n",
    "|0.5|3.96578168|1.71752772|0.60564376|\n",
    "|1|4.12399713|2.15425966|1.05258392|\n",
    "|2|4.23741356|2.59333676|1.53129959|\n",
    "\n",
    "For k = 3:\n",
    "\n",
    "|T|$S_0$ = 36|$S_0$ = 40|$S_0$ = 44|\n",
    "|-|----------|----------|----------|\n",
    "|0.5|4.09240584|1.81176717|0.66071687|\n",
    "|1|4.28892259|2.31539083|1.15187396|\n",
    "|2|4.49377137|2.78306822|1.69719182|\n",
    "\n",
    "For k = 3:\n",
    "\n",
    "|T|$S_0$ = 36|$S_0$ = 40|$S_0$ = 44|\n",
    "|-|----------|----------|----------|\n",
    "|0.5|4.15935206|2.00787536|1.46076053|\n",
    "|1|4.44138998|2.79966248|2.22237022|\n",
    "|2|5.18067749|4.11608838|3.517246  |"
   ]
  },
  {
   "cell_type": "markdown",
   "metadata": {},
   "source": [
    "**(d)**\n",
    "<br>\n"
   ]
  },
  {
   "cell_type": "markdown",
   "metadata": {},
   "source": [
    "By using all three methods of Monomials, Hermite and Laguerre, the American put option at T=0.5 with $S_0$ = 36, 40, 44 are approximately **4.2, 1.9, 0.6**; prices at T=1 are **4.5, 2.3, 1.1**; prices at T=2 are **5.0, 2.8, 1.7**. Also, we find that  method of Laguerre causes larger estimated errors while the other two methods (Monomials and Hermite) are quite consistent and stable.\n"
   ]
  },
  {
   "cell_type": "markdown",
   "metadata": {},
   "source": [
    "# Problem 2"
   ]
  },
  {
   "cell_type": "markdown",
   "metadata": {},
   "source": [
    "**(a)**"
   ]
  },
  {
   "cell_type": "code",
   "execution_count": 8,
   "metadata": {},
   "outputs": [
    {
     "name": "stdout",
     "output_type": "stream",
     "text": [
      "3.136013240938645\n"
     ]
    }
   ],
   "source": [
    "#a----------------------------------------------------------------\n",
    "def f_FSEP(S0,r,sigma,t,T,paths,steps,method):\n",
    "    dt = T/steps\n",
    "    price = StockPrices(S0,r,sigma,T,paths,steps)\n",
    "    K = price[:,int(0.2/dt)]\n",
    "    option = np.mean(np.maximum(K-price[:,steps-1],0))*np.exp(-r)\n",
    "    return option\n",
    "\n",
    "EuroP_FS = f_FSEP(65.0,0.06,0.2,0.2,1,100000,100,\"Monomials\")\n",
    "\n",
    "print(EuroP_FS)"
   ]
  },
  {
   "cell_type": "markdown",
   "metadata": {},
   "source": [
    "<br>\n",
    "Forward-start European put option price is $3.136\n",
    "<br>\n",
    "<br>"
   ]
  },
  {
   "cell_type": "markdown",
   "metadata": {},
   "source": [
    "**(b)**"
   ]
  },
  {
   "cell_type": "code",
   "execution_count": 9,
   "metadata": {},
   "outputs": [
    {
     "name": "stdout",
     "output_type": "stream",
     "text": [
      "3.327973794168421\n"
     ]
    }
   ],
   "source": [
    "#b----------------------------------------------------------------\n",
    "def f_FSAP(S0,r,sd,k,t,T,paths,steps,methods):\n",
    "    dt = T/steps\n",
    "    St = StockPrices(S0, r, sd, T, paths, steps)\n",
    "    stop = int(0.2/dt)\n",
    "    K = St[:,stop]\n",
    "    # initialize payoffs matrix\n",
    "    payoffs = np.zeros((paths, steps))\n",
    "    payoffs[:,steps - 1] = np.maximum(K - St[:,steps - 1], 0)\n",
    "    # initialize stopping time matrix\n",
    "    index = np.zeros((paths, steps))\n",
    "    index[:,steps-1] = np.where(payoffs[:,steps - 1]> 0, 1, 0)\n",
    "    discI = np.array(index[:,steps-1])\n",
    "    Ot = np.array(np.maximum(K - St[:,steps-1],0))\n",
    "    # initialize continuation value matrix\n",
    "    for j in reversed(range(stop,steps - 1)):\n",
    "        payoffs[:,j] = np.maximum(K - St[:, j],0)\n",
    "        # Find in the money paths\n",
    "        In = np.where(Ot*np.exp(-r*dt*discI) > 0)[0]\n",
    "        #  Use x which are in the money\n",
    "        X = f_reg(St[In, j], k, methods)         \n",
    "        Y = np.array(Ot*np.exp(-r*dt*discI))[In]\n",
    "        # Find Least Square Beta\n",
    "        A = np.dot(X, X.T)\n",
    "        b = np.dot(X, Y)\n",
    "        Beta = np.dot(np.linalg.inv(A), b)\n",
    "        # find full x  \n",
    "        x = f_reg(St[:, j], k, methods) \n",
    "        # find continue value\n",
    "        expected = np.dot(x.T, Beta)\n",
    "        # update decision rule\n",
    "        index[:, j] = np.where(np.array(payoffs[:,j]) - np.array(expected) > 0, 1, 0)\n",
    "        for l in range(paths):\n",
    "            if index[l,j] == 1:\n",
    "                discI[l] = 1\n",
    "                Ot[l] = K[l] - St[l,j]\n",
    "            elif index[l,j] == 0:\n",
    "                discI[l] += 1\n",
    "        payoffs[:,j] = np.maximum(np.array(payoffs[:,j]),np.maximum(np.array(expected),0))\n",
    "    # Find the first occurence of 1, indicating the earlist exercise date\n",
    "    first_exercise = np.argmax(index, axis = 1) \n",
    "    index = np.zeros(shape = (paths, steps))\n",
    "    index[np.arange(paths), first_exercise] = 1\n",
    "    option = 0\n",
    "    temp = index*payoffs\n",
    "    for q in range(steps):\n",
    "        option += np.mean(temp[:,q]*np.exp(-r*dt*(q+1)))\n",
    "    return option\n",
    "\n",
    "AmeriP_FS = f_FSAP(65,0.06,0.2,2,0.2,1,100000,100,\"Monomials\")\n",
    "\n",
    "print(AmeriP_FS)"
   ]
  },
  {
   "cell_type": "markdown",
   "metadata": {},
   "source": [
    "<br>\n",
    "Forward-start American put option price is $3.328\n",
    "<br>\n",
    "<br>"
   ]
  }
 ],
 "metadata": {
  "kernelspec": {
   "display_name": "Python 3",
   "language": "python",
   "name": "python3"
  },
  "language_info": {
   "codemirror_mode": {
    "name": "ipython",
    "version": 3
   },
   "file_extension": ".py",
   "mimetype": "text/x-python",
   "name": "python",
   "nbconvert_exporter": "python",
   "pygments_lexer": "ipython3",
   "version": "3.7.1"
  }
 },
 "nbformat": 4,
 "nbformat_minor": 2
}
